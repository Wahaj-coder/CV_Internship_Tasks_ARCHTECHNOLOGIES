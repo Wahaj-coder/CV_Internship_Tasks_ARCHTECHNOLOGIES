{
  "nbformat": 4,
  "nbformat_minor": 0,
  "metadata": {
    "colab": {
      "provenance": [],
      "gpuType": "T4"
    },
    "kernelspec": {
      "name": "python3",
      "display_name": "Python 3"
    },
    "language_info": {
      "name": "python"
    },
    "accelerator": "GPU"
  },
  "cells": [
    {
      "cell_type": "markdown",
      "source": [
        "# Face Mask Detection using CNN (Yolo v11)"
      ],
      "metadata": {
        "id": "UokVl22F1Bff"
      }
    },
    {
      "cell_type": "code",
      "execution_count": 1,
      "metadata": {
        "colab": {
          "base_uri": "https://localhost:8080/",
          "height": 88
        },
        "id": "uzbkM0XfLYEM",
        "outputId": "6403e5e4-80a6-4bdc-eedc-a2c839c1890a"
      },
      "outputs": [
        {
          "output_type": "display_data",
          "data": {
            "text/plain": [
              "<IPython.core.display.HTML object>"
            ],
            "text/html": [
              "\n",
              "     <input type=\"file\" id=\"files-23565816-89e6-41c2-856e-69e056b990c8\" name=\"files[]\" multiple disabled\n",
              "        style=\"border:none\" />\n",
              "     <output id=\"result-23565816-89e6-41c2-856e-69e056b990c8\">\n",
              "      Upload widget is only available when the cell has been executed in the\n",
              "      current browser session. Please rerun this cell to enable.\n",
              "      </output>\n",
              "      <script>// Copyright 2017 Google LLC\n",
              "//\n",
              "// Licensed under the Apache License, Version 2.0 (the \"License\");\n",
              "// you may not use this file except in compliance with the License.\n",
              "// You may obtain a copy of the License at\n",
              "//\n",
              "//      http://www.apache.org/licenses/LICENSE-2.0\n",
              "//\n",
              "// Unless required by applicable law or agreed to in writing, software\n",
              "// distributed under the License is distributed on an \"AS IS\" BASIS,\n",
              "// WITHOUT WARRANTIES OR CONDITIONS OF ANY KIND, either express or implied.\n",
              "// See the License for the specific language governing permissions and\n",
              "// limitations under the License.\n",
              "\n",
              "/**\n",
              " * @fileoverview Helpers for google.colab Python module.\n",
              " */\n",
              "(function(scope) {\n",
              "function span(text, styleAttributes = {}) {\n",
              "  const element = document.createElement('span');\n",
              "  element.textContent = text;\n",
              "  for (const key of Object.keys(styleAttributes)) {\n",
              "    element.style[key] = styleAttributes[key];\n",
              "  }\n",
              "  return element;\n",
              "}\n",
              "\n",
              "// Max number of bytes which will be uploaded at a time.\n",
              "const MAX_PAYLOAD_SIZE = 100 * 1024;\n",
              "\n",
              "function _uploadFiles(inputId, outputId) {\n",
              "  const steps = uploadFilesStep(inputId, outputId);\n",
              "  const outputElement = document.getElementById(outputId);\n",
              "  // Cache steps on the outputElement to make it available for the next call\n",
              "  // to uploadFilesContinue from Python.\n",
              "  outputElement.steps = steps;\n",
              "\n",
              "  return _uploadFilesContinue(outputId);\n",
              "}\n",
              "\n",
              "// This is roughly an async generator (not supported in the browser yet),\n",
              "// where there are multiple asynchronous steps and the Python side is going\n",
              "// to poll for completion of each step.\n",
              "// This uses a Promise to block the python side on completion of each step,\n",
              "// then passes the result of the previous step as the input to the next step.\n",
              "function _uploadFilesContinue(outputId) {\n",
              "  const outputElement = document.getElementById(outputId);\n",
              "  const steps = outputElement.steps;\n",
              "\n",
              "  const next = steps.next(outputElement.lastPromiseValue);\n",
              "  return Promise.resolve(next.value.promise).then((value) => {\n",
              "    // Cache the last promise value to make it available to the next\n",
              "    // step of the generator.\n",
              "    outputElement.lastPromiseValue = value;\n",
              "    return next.value.response;\n",
              "  });\n",
              "}\n",
              "\n",
              "/**\n",
              " * Generator function which is called between each async step of the upload\n",
              " * process.\n",
              " * @param {string} inputId Element ID of the input file picker element.\n",
              " * @param {string} outputId Element ID of the output display.\n",
              " * @return {!Iterable<!Object>} Iterable of next steps.\n",
              " */\n",
              "function* uploadFilesStep(inputId, outputId) {\n",
              "  const inputElement = document.getElementById(inputId);\n",
              "  inputElement.disabled = false;\n",
              "\n",
              "  const outputElement = document.getElementById(outputId);\n",
              "  outputElement.innerHTML = '';\n",
              "\n",
              "  const pickedPromise = new Promise((resolve) => {\n",
              "    inputElement.addEventListener('change', (e) => {\n",
              "      resolve(e.target.files);\n",
              "    });\n",
              "  });\n",
              "\n",
              "  const cancel = document.createElement('button');\n",
              "  inputElement.parentElement.appendChild(cancel);\n",
              "  cancel.textContent = 'Cancel upload';\n",
              "  const cancelPromise = new Promise((resolve) => {\n",
              "    cancel.onclick = () => {\n",
              "      resolve(null);\n",
              "    };\n",
              "  });\n",
              "\n",
              "  // Wait for the user to pick the files.\n",
              "  const files = yield {\n",
              "    promise: Promise.race([pickedPromise, cancelPromise]),\n",
              "    response: {\n",
              "      action: 'starting',\n",
              "    }\n",
              "  };\n",
              "\n",
              "  cancel.remove();\n",
              "\n",
              "  // Disable the input element since further picks are not allowed.\n",
              "  inputElement.disabled = true;\n",
              "\n",
              "  if (!files) {\n",
              "    return {\n",
              "      response: {\n",
              "        action: 'complete',\n",
              "      }\n",
              "    };\n",
              "  }\n",
              "\n",
              "  for (const file of files) {\n",
              "    const li = document.createElement('li');\n",
              "    li.append(span(file.name, {fontWeight: 'bold'}));\n",
              "    li.append(span(\n",
              "        `(${file.type || 'n/a'}) - ${file.size} bytes, ` +\n",
              "        `last modified: ${\n",
              "            file.lastModifiedDate ? file.lastModifiedDate.toLocaleDateString() :\n",
              "                                    'n/a'} - `));\n",
              "    const percent = span('0% done');\n",
              "    li.appendChild(percent);\n",
              "\n",
              "    outputElement.appendChild(li);\n",
              "\n",
              "    const fileDataPromise = new Promise((resolve) => {\n",
              "      const reader = new FileReader();\n",
              "      reader.onload = (e) => {\n",
              "        resolve(e.target.result);\n",
              "      };\n",
              "      reader.readAsArrayBuffer(file);\n",
              "    });\n",
              "    // Wait for the data to be ready.\n",
              "    let fileData = yield {\n",
              "      promise: fileDataPromise,\n",
              "      response: {\n",
              "        action: 'continue',\n",
              "      }\n",
              "    };\n",
              "\n",
              "    // Use a chunked sending to avoid message size limits. See b/62115660.\n",
              "    let position = 0;\n",
              "    do {\n",
              "      const length = Math.min(fileData.byteLength - position, MAX_PAYLOAD_SIZE);\n",
              "      const chunk = new Uint8Array(fileData, position, length);\n",
              "      position += length;\n",
              "\n",
              "      const base64 = btoa(String.fromCharCode.apply(null, chunk));\n",
              "      yield {\n",
              "        response: {\n",
              "          action: 'append',\n",
              "          file: file.name,\n",
              "          data: base64,\n",
              "        },\n",
              "      };\n",
              "\n",
              "      let percentDone = fileData.byteLength === 0 ?\n",
              "          100 :\n",
              "          Math.round((position / fileData.byteLength) * 100);\n",
              "      percent.textContent = `${percentDone}% done`;\n",
              "\n",
              "    } while (position < fileData.byteLength);\n",
              "  }\n",
              "\n",
              "  // All done.\n",
              "  yield {\n",
              "    response: {\n",
              "      action: 'complete',\n",
              "    }\n",
              "  };\n",
              "}\n",
              "\n",
              "scope.google = scope.google || {};\n",
              "scope.google.colab = scope.google.colab || {};\n",
              "scope.google.colab._files = {\n",
              "  _uploadFiles,\n",
              "  _uploadFilesContinue,\n",
              "};\n",
              "})(self);\n",
              "</script> "
            ]
          },
          "metadata": {}
        },
        {
          "output_type": "stream",
          "name": "stdout",
          "text": [
            "Saving kaggle.json to kaggle.json\n"
          ]
        },
        {
          "output_type": "execute_result",
          "data": {
            "text/plain": [
              "{'kaggle.json': b'{\"username\":\"muhammawahaj\",\"key\":\"e3c5851ce6e218da454d3bdde71a8dff\"}'}"
            ]
          },
          "metadata": {},
          "execution_count": 1
        }
      ],
      "source": [
        "from google.colab import files\n",
        "files.upload()  # Upload kaggle.json here"
      ]
    },
    {
      "cell_type": "code",
      "source": [
        "import os\n",
        "import zipfile\n",
        "# Make kaggle directory and move the json\n",
        "os.makedirs('/root/.kaggle', exist_ok=True)\n",
        "!mv kaggle.json /root/.kaggle/\n",
        "!chmod 600 /root/.kaggle/kaggle.json"
      ],
      "metadata": {
        "id": "hD8Send7LY48"
      },
      "execution_count": 2,
      "outputs": []
    },
    {
      "cell_type": "code",
      "source": [
        "# **Traffic Sign Classification Using Custom CNN**\n",
        "# Replace this with the Kaggle dataset identifier from the URL\n",
        "DATASET_PATH = \"andrewmvd/face-mask-detection\"\n",
        "\n",
        "# Output folder in your Drive\n",
        "OUTPUT_DIR = \"/content/drive/MyDrive/FaceMaskKaggleDataset\"\n",
        "\n",
        "# Download and unzip\n",
        "!kaggle datasets download -d {DATASET_PATH} -p {OUTPUT_DIR}\n",
        "!unzip -q \"{OUTPUT_DIR}/*.zip\" -d {OUTPUT_DIR}\n"
      ],
      "metadata": {
        "colab": {
          "base_uri": "https://localhost:8080/"
        },
        "id": "Mb9gDr3BLY7h",
        "outputId": "214757b6-ae02-44b6-b924-024094c8a2fc"
      },
      "execution_count": 3,
      "outputs": [
        {
          "output_type": "stream",
          "name": "stdout",
          "text": [
            "Dataset URL: https://www.kaggle.com/datasets/andrewmvd/face-mask-detection\n",
            "License(s): CC0-1.0\n",
            "Downloading face-mask-detection.zip to /content/drive/MyDrive/FaceMaskKaggleDataset\n",
            " 93% 369M/398M [00:02<00:00, 110MB/s] \n",
            "100% 398M/398M [00:02<00:00, 143MB/s]\n"
          ]
        }
      ]
    },
    {
      "cell_type": "code",
      "source": [
        "!pip install ultralytics"
      ],
      "metadata": {
        "colab": {
          "base_uri": "https://localhost:8080/"
        },
        "id": "uu-FzEfULY-C",
        "outputId": "2454063c-5b18-4c82-9ede-b6a963026e13"
      },
      "execution_count": 21,
      "outputs": [
        {
          "output_type": "stream",
          "name": "stdout",
          "text": [
            "Requirement already satisfied: ultralytics in /usr/local/lib/python3.11/dist-packages (8.3.179)\n",
            "Requirement already satisfied: numpy>=1.23.0 in /usr/local/lib/python3.11/dist-packages (from ultralytics) (2.0.2)\n",
            "Requirement already satisfied: matplotlib>=3.3.0 in /usr/local/lib/python3.11/dist-packages (from ultralytics) (3.10.0)\n",
            "Requirement already satisfied: opencv-python>=4.6.0 in /usr/local/lib/python3.11/dist-packages (from ultralytics) (4.12.0.88)\n",
            "Requirement already satisfied: pillow>=7.1.2 in /usr/local/lib/python3.11/dist-packages (from ultralytics) (11.3.0)\n",
            "Requirement already satisfied: pyyaml>=5.3.1 in /usr/local/lib/python3.11/dist-packages (from ultralytics) (6.0.2)\n",
            "Requirement already satisfied: requests>=2.23.0 in /usr/local/lib/python3.11/dist-packages (from ultralytics) (2.32.3)\n",
            "Requirement already satisfied: scipy>=1.4.1 in /usr/local/lib/python3.11/dist-packages (from ultralytics) (1.16.1)\n",
            "Requirement already satisfied: torch>=1.8.0 in /usr/local/lib/python3.11/dist-packages (from ultralytics) (2.6.0+cu124)\n",
            "Requirement already satisfied: torchvision>=0.9.0 in /usr/local/lib/python3.11/dist-packages (from ultralytics) (0.21.0+cu124)\n",
            "Requirement already satisfied: tqdm>=4.64.0 in /usr/local/lib/python3.11/dist-packages (from ultralytics) (4.67.1)\n",
            "Requirement already satisfied: psutil in /usr/local/lib/python3.11/dist-packages (from ultralytics) (5.9.5)\n",
            "Requirement already satisfied: py-cpuinfo in /usr/local/lib/python3.11/dist-packages (from ultralytics) (9.0.0)\n",
            "Requirement already satisfied: pandas>=1.1.4 in /usr/local/lib/python3.11/dist-packages (from ultralytics) (2.2.2)\n",
            "Requirement already satisfied: ultralytics-thop>=2.0.0 in /usr/local/lib/python3.11/dist-packages (from ultralytics) (2.0.15)\n",
            "Requirement already satisfied: contourpy>=1.0.1 in /usr/local/lib/python3.11/dist-packages (from matplotlib>=3.3.0->ultralytics) (1.3.3)\n",
            "Requirement already satisfied: cycler>=0.10 in /usr/local/lib/python3.11/dist-packages (from matplotlib>=3.3.0->ultralytics) (0.12.1)\n",
            "Requirement already satisfied: fonttools>=4.22.0 in /usr/local/lib/python3.11/dist-packages (from matplotlib>=3.3.0->ultralytics) (4.59.0)\n",
            "Requirement already satisfied: kiwisolver>=1.3.1 in /usr/local/lib/python3.11/dist-packages (from matplotlib>=3.3.0->ultralytics) (1.4.9)\n",
            "Requirement already satisfied: packaging>=20.0 in /usr/local/lib/python3.11/dist-packages (from matplotlib>=3.3.0->ultralytics) (25.0)\n",
            "Requirement already satisfied: pyparsing>=2.3.1 in /usr/local/lib/python3.11/dist-packages (from matplotlib>=3.3.0->ultralytics) (3.2.3)\n",
            "Requirement already satisfied: python-dateutil>=2.7 in /usr/local/lib/python3.11/dist-packages (from matplotlib>=3.3.0->ultralytics) (2.9.0.post0)\n",
            "Requirement already satisfied: pytz>=2020.1 in /usr/local/lib/python3.11/dist-packages (from pandas>=1.1.4->ultralytics) (2025.2)\n",
            "Requirement already satisfied: tzdata>=2022.7 in /usr/local/lib/python3.11/dist-packages (from pandas>=1.1.4->ultralytics) (2025.2)\n",
            "Requirement already satisfied: charset-normalizer<4,>=2 in /usr/local/lib/python3.11/dist-packages (from requests>=2.23.0->ultralytics) (3.4.3)\n",
            "Requirement already satisfied: idna<4,>=2.5 in /usr/local/lib/python3.11/dist-packages (from requests>=2.23.0->ultralytics) (3.10)\n",
            "Requirement already satisfied: urllib3<3,>=1.21.1 in /usr/local/lib/python3.11/dist-packages (from requests>=2.23.0->ultralytics) (2.5.0)\n",
            "Requirement already satisfied: certifi>=2017.4.17 in /usr/local/lib/python3.11/dist-packages (from requests>=2.23.0->ultralytics) (2025.8.3)\n",
            "Requirement already satisfied: filelock in /usr/local/lib/python3.11/dist-packages (from torch>=1.8.0->ultralytics) (3.18.0)\n",
            "Requirement already satisfied: typing-extensions>=4.10.0 in /usr/local/lib/python3.11/dist-packages (from torch>=1.8.0->ultralytics) (4.14.1)\n",
            "Requirement already satisfied: networkx in /usr/local/lib/python3.11/dist-packages (from torch>=1.8.0->ultralytics) (3.5)\n",
            "Requirement already satisfied: jinja2 in /usr/local/lib/python3.11/dist-packages (from torch>=1.8.0->ultralytics) (3.1.6)\n",
            "Requirement already satisfied: fsspec in /usr/local/lib/python3.11/dist-packages (from torch>=1.8.0->ultralytics) (2025.3.0)\n",
            "Requirement already satisfied: nvidia-cuda-nvrtc-cu12==12.4.127 in /usr/local/lib/python3.11/dist-packages (from torch>=1.8.0->ultralytics) (12.4.127)\n",
            "Requirement already satisfied: nvidia-cuda-runtime-cu12==12.4.127 in /usr/local/lib/python3.11/dist-packages (from torch>=1.8.0->ultralytics) (12.4.127)\n",
            "Requirement already satisfied: nvidia-cuda-cupti-cu12==12.4.127 in /usr/local/lib/python3.11/dist-packages (from torch>=1.8.0->ultralytics) (12.4.127)\n",
            "Requirement already satisfied: nvidia-cudnn-cu12==9.1.0.70 in /usr/local/lib/python3.11/dist-packages (from torch>=1.8.0->ultralytics) (9.1.0.70)\n",
            "Requirement already satisfied: nvidia-cublas-cu12==12.4.5.8 in /usr/local/lib/python3.11/dist-packages (from torch>=1.8.0->ultralytics) (12.4.5.8)\n",
            "Requirement already satisfied: nvidia-cufft-cu12==11.2.1.3 in /usr/local/lib/python3.11/dist-packages (from torch>=1.8.0->ultralytics) (11.2.1.3)\n",
            "Requirement already satisfied: nvidia-curand-cu12==10.3.5.147 in /usr/local/lib/python3.11/dist-packages (from torch>=1.8.0->ultralytics) (10.3.5.147)\n",
            "Requirement already satisfied: nvidia-cusolver-cu12==11.6.1.9 in /usr/local/lib/python3.11/dist-packages (from torch>=1.8.0->ultralytics) (11.6.1.9)\n",
            "Requirement already satisfied: nvidia-cusparse-cu12==12.3.1.170 in /usr/local/lib/python3.11/dist-packages (from torch>=1.8.0->ultralytics) (12.3.1.170)\n",
            "Requirement already satisfied: nvidia-cusparselt-cu12==0.6.2 in /usr/local/lib/python3.11/dist-packages (from torch>=1.8.0->ultralytics) (0.6.2)\n",
            "Requirement already satisfied: nvidia-nccl-cu12==2.21.5 in /usr/local/lib/python3.11/dist-packages (from torch>=1.8.0->ultralytics) (2.21.5)\n",
            "Requirement already satisfied: nvidia-nvtx-cu12==12.4.127 in /usr/local/lib/python3.11/dist-packages (from torch>=1.8.0->ultralytics) (12.4.127)\n",
            "Requirement already satisfied: nvidia-nvjitlink-cu12==12.4.127 in /usr/local/lib/python3.11/dist-packages (from torch>=1.8.0->ultralytics) (12.4.127)\n",
            "Requirement already satisfied: triton==3.2.0 in /usr/local/lib/python3.11/dist-packages (from torch>=1.8.0->ultralytics) (3.2.0)\n",
            "Requirement already satisfied: sympy==1.13.1 in /usr/local/lib/python3.11/dist-packages (from torch>=1.8.0->ultralytics) (1.13.1)\n",
            "Requirement already satisfied: mpmath<1.4,>=1.1.0 in /usr/local/lib/python3.11/dist-packages (from sympy==1.13.1->torch>=1.8.0->ultralytics) (1.3.0)\n",
            "Requirement already satisfied: six>=1.5 in /usr/local/lib/python3.11/dist-packages (from python-dateutil>=2.7->matplotlib>=3.3.0->ultralytics) (1.17.0)\n",
            "Requirement already satisfied: MarkupSafe>=2.0 in /usr/local/lib/python3.11/dist-packages (from jinja2->torch>=1.8.0->ultralytics) (3.0.2)\n"
          ]
        }
      ]
    },
    {
      "cell_type": "code",
      "source": [
        "# Python librarys\n",
        "import numpy as np\n",
        "import pandas as pd\n",
        "import matplotlib.pyplot as plt\n",
        "\n",
        "import xml.etree.cElementTree as ET\n",
        "import glob\n",
        "import os\n",
        "import json\n",
        "import random\n",
        "import shutil\n",
        "\n",
        "from PIL import Image, ImageOps"
      ],
      "metadata": {
        "id": "sLdSVaOcLZAp"
      },
      "execution_count": 2,
      "outputs": []
    },
    {
      "cell_type": "markdown",
      "source": [
        "# Data Conversion: XML files to Yolo .txt label files"
      ],
      "metadata": {
        "id": "rw9kIjTI1Ppb"
      }
    },
    {
      "cell_type": "code",
      "source": [
        "# Preparing Data For Model(YoloV11)\n",
        "# I will use these functions for .xml to .txt format.\n",
        "def xml_to_yolo_bbox(bbox, w, h):\n",
        "    x_center = ((bbox[2] + bbox[0]) / 2) / w\n",
        "    y_center = ((bbox[3] + bbox[1]) / 2) / h\n",
        "\n",
        "    width = (bbox[2] - bbox[0]) / w\n",
        "    height = (bbox[3] - bbox[1]) / h\n",
        "\n",
        "    return [x_center, y_center, width, height]\n",
        "\n",
        "def yolo_to_xml_bbox(bbox, w, h):\n",
        "    w_half_len = (bbox[2] + w) / 2\n",
        "    h_half_len = (bbox[3] + h) / 2\n",
        "\n",
        "    xmin = int((bbox[0] + w) - w_half_len)\n",
        "    ymin = int((bbox[1] + h) - h_half_len)\n",
        "    xmax = int((bbox[0] + w) + w_half_len)\n",
        "    ymax = int((bbox[1] + h) + h_half_len)\n",
        "\n",
        "    return[xmin, ymin, xmax, ymax]\n",
        "# Conversion phase\n",
        "classes = []\n",
        "\n",
        "input_dir = '/content/drive/MyDrive/FaceMaskKaggleDataset/annotations'\n",
        "output_dir = '/content/drive/MyDrive/FaceMaskKaggleDataset/labels'\n",
        "image_dir = '/content/drive/MyDrive/FaceMaskKaggleDataset/images'\n",
        "\n",
        "if not os.path.exists(output_dir):\n",
        "    os.mkdir(output_dir)\n",
        "\n",
        "files = glob.glob(os.path.join(input_dir, '*.xml'))\n",
        "for fil in files:\n",
        "    basename = os.path.basename(fil)\n",
        "    filename = os.path.splitext(basename)[0]\n",
        "    if not os.path.exists(os.path.join(image_dir, f'{filename}.png')):\n",
        "        print(f'{filename} image does not exist')\n",
        "        continue\n",
        "\n",
        "    result = []\n",
        "\n",
        "    tree = ET.parse(fil)\n",
        "    root = tree.getroot()\n",
        "    width = int(root.find('size').find('width').text)\n",
        "    height = int(root.find('size').find('height').text)\n",
        "\n",
        "    for obj in root.findall('object'):\n",
        "        label = obj.find('name').text\n",
        "\n",
        "        if label not in classes:\n",
        "            classes.append(label)\n",
        "\n",
        "        index = classes.index(label)\n",
        "        pil_bbox = [int(x.text) for x in obj.find('bndbox')]\n",
        "        yolo_bbox = xml_to_yolo_bbox(pil_bbox, width, height)\n",
        "\n",
        "        bbox_string =  ' '.join([str(x) for x in yolo_bbox])\n",
        "        result.append(f'{index} {bbox_string}')\n",
        "\n",
        "    if result:\n",
        "        with open(os.path.join(output_dir, f'{filename}.txt'), 'w', encoding = 'utf-8') as f:\n",
        "            f.write('\\n'.join(result))\n",
        "\n",
        "with open(f'{output_dir}/classes.txt', 'w', encoding = 'utf-8') as f:\n",
        "    f.write(json.dumps(classes))"
      ],
      "metadata": {
        "id": "lvyC7LDtLZCt"
      },
      "execution_count": 3,
      "outputs": []
    },
    {
      "cell_type": "code",
      "source": [
        "annotation_count = len(os.listdir(\"/content/drive/MyDrive/FaceMaskKaggleDataset/annotations\"))\n",
        "labels_count = len(os.listdir(\"/content/drive/MyDrive/FaceMaskKaggleDataset/labels\"))\n",
        "print(f\"Annotation Counts: {annotation_count}\")\n",
        "print(f\"Lables Counts: {labels_count}\")"
      ],
      "metadata": {
        "colab": {
          "base_uri": "https://localhost:8080/"
        },
        "id": "cxP80veBLZFU",
        "outputId": "a9e61f45-02f5-4927-8dfe-21ef560ba32e"
      },
      "execution_count": 4,
      "outputs": [
        {
          "output_type": "stream",
          "name": "stdout",
          "text": [
            "Annotation Counts: 853\n",
            "Lables Counts: 854\n"
          ]
        }
      ]
    },
    {
      "cell_type": "code",
      "source": [
        "import os\n",
        "\n",
        "base_path = \"/content/drive/MyDrive/kaggle/working/data\"\n",
        "\n",
        "if not os.path.exists(base_path):\n",
        "    os.makedirs(base_path + \"/train/images\")\n",
        "    os.makedirs(base_path + \"/train/labels\")\n",
        "    os.makedirs(base_path + \"/val/images\")\n",
        "    os.makedirs(base_path + \"/val/labels\")\n",
        "    os.makedirs(base_path + \"/test/images\")\n",
        "    os.makedirs(base_path + \"/test/labels\")\n"
      ],
      "metadata": {
        "id": "iGGfWoejLZHj"
      },
      "execution_count": 5,
      "outputs": []
    },
    {
      "cell_type": "code",
      "source": [
        "# Material is the names of images in the images folder.\n",
        "metarial = []\n",
        "for i in os.listdir(\"/content/drive/MyDrive/FaceMaskKaggleDataset/images\"):\n",
        "    str = i[:-4]\n",
        "    metarial.append(str)\n",
        "metarial[0:3]"
      ],
      "metadata": {
        "colab": {
          "base_uri": "https://localhost:8080/"
        },
        "id": "gD2aJDY4LZJ7",
        "outputId": "25c4ff7f-7ff1-4ba3-b039-3befdc577c71"
      },
      "execution_count": 6,
      "outputs": [
        {
          "output_type": "execute_result",
          "data": {
            "text/plain": [
              "['maksssksksss605', 'maksssksksss669', 'maksssksksss671']"
            ]
          },
          "metadata": {},
          "execution_count": 6
        }
      ]
    },
    {
      "cell_type": "code",
      "source": [
        "print(\"Sum of image: \", len(metarial))\n",
        "train_size = int(len(metarial) * 0.7)\n",
        "test_size = int(len(metarial) * 0.15)\n",
        "val_size = int(len(metarial) * 0.15)\n",
        "print(\"Sum of the train size: \", train_size)\n",
        "print(\"Sum of the test size: \", test_size)\n",
        "print(\"Sum of the val size: \", val_size)"
      ],
      "metadata": {
        "colab": {
          "base_uri": "https://localhost:8080/"
        },
        "id": "3GSCoBJ_LrOu",
        "outputId": "0c80623f-df11-462c-fa83-b2f19b415a68"
      },
      "execution_count": 7,
      "outputs": [
        {
          "output_type": "stream",
          "name": "stdout",
          "text": [
            "Sum of image:  853\n",
            "Sum of the train size:  597\n",
            "Sum of the test size:  127\n",
            "Sum of the val size:  127\n"
          ]
        }
      ]
    },
    {
      "cell_type": "code",
      "source": [
        "import os\n",
        "import random\n",
        "import shutil\n",
        "\n",
        "# Paths\n",
        "base_path = \"/content/drive/MyDrive/kaggle/working/data\"\n",
        "images_path = \"/content/drive/MyDrive/FaceMaskKaggleDataset/images\"\n",
        "labels_path = \"/content/drive/MyDrive/FaceMaskKaggleDataset/labels\"\n",
        "\n",
        "# Output folders\n",
        "splits = [\"train\", \"val\", \"test\"]\n",
        "for split in splits:\n",
        "    os.makedirs(f\"{base_path}/{split}/images\", exist_ok=True)\n",
        "    os.makedirs(f\"{base_path}/{split}/labels\", exist_ok=True)\n",
        "\n",
        "# Parameters\n",
        "train_split = 0.7\n",
        "val_split = 0.2\n",
        "test_split = 0.1\n",
        "\n",
        "# Get all images\n",
        "all_images = [f for f in os.listdir(images_path) if f.endswith(('.jpg', '.png', '.jpeg'))]\n",
        "random.shuffle(all_images)\n",
        "\n",
        "# Split data\n",
        "train_end = int(len(all_images) * train_split)\n",
        "val_end = train_end + int(len(all_images) * val_split)\n",
        "\n",
        "train_files = all_images[:train_end]\n",
        "val_files = all_images[train_end:val_end]\n",
        "test_files = all_images[val_end:]\n",
        "\n",
        "splits_dict = {\"train\": train_files, \"val\": val_files, \"test\": test_files}\n",
        "\n",
        "# Copy files\n",
        "for split, files in splits_dict.items():\n",
        "    for img_file in files:\n",
        "        # image path\n",
        "        src_img = os.path.join(images_path, img_file)\n",
        "        dst_img = os.path.join(base_path, split, \"images\", img_file)\n",
        "\n",
        "        # label path (same name but .txt extension)\n",
        "        label_file = os.path.splitext(img_file)[0] + \".txt\"\n",
        "        src_lbl = os.path.join(labels_path, label_file)\n",
        "        dst_lbl = os.path.join(base_path, split, \"labels\", label_file)\n",
        "\n",
        "        # copy only if label exists\n",
        "        if os.path.exists(src_lbl):\n",
        "            shutil.copy(src_img, dst_img)\n",
        "            shutil.copy(src_lbl, dst_lbl)\n"
      ],
      "metadata": {
        "id": "w7pZbdlsLrRK"
      },
      "execution_count": 18,
      "outputs": []
    },
    {
      "cell_type": "markdown",
      "source": [
        "# Model Training"
      ],
      "metadata": {
        "id": "yEczXkbf1bsB"
      }
    },
    {
      "cell_type": "code",
      "source": [
        "# Create the data.yaml for YOLO training\n",
        "yaml_text = \"\"\"train: /content/drive/MyDrive/kaggle/working/data/train/images\n",
        "val: /content/drive/MyDrive/kaggle/working/data/val/images\n",
        "\n",
        "nc: 3\n",
        "names: [\"with_mask\", \"mask_weared_incorrect\", \"without_mask\"]\"\"\"\n",
        "\n",
        "with open(\"/content/drive/MyDrive/kaggle/working/data/data.yaml\", 'w') as file:\n",
        "    file.write(yaml_text)"
      ],
      "metadata": {
        "id": "ZEvJTm20LrXp"
      },
      "execution_count": 19,
      "outputs": []
    },
    {
      "cell_type": "code",
      "source": [
        "# We should close wandb because If we don't close wandb we can't start training.\n",
        "import wandb\n",
        "wandb.init(mode='disabled')"
      ],
      "metadata": {
        "colab": {
          "base_uri": "https://localhost:8080/",
          "height": 36
        },
        "id": "suJL0z9LLrZ0",
        "outputId": "197ba2c8-a663-44c9-90f5-c70f51bd5b40"
      },
      "execution_count": 22,
      "outputs": [
        {
          "output_type": "execute_result",
          "data": {
            "text/html": [
              "<button onClick=\"this.nextSibling.style.display='block';this.style.display='none';\">Display W&B run</button><iframe src='https://wandb.ai/dummy/dummy/runs/19r0gqa3?jupyter=true' style='border:none;width:100%;height:420px;display:none;'></iframe>"
            ],
            "text/plain": [
              "<wandb.sdk.wandb_run.Run at 0x7e8c9bae8210>"
            ]
          },
          "metadata": {},
          "execution_count": 22
        }
      ]
    },
    {
      "cell_type": "code",
      "source": [
        "from ultralytics import YOLO\n",
        "model = YOLO('yolo11n.pt')\n",
        "results = model.train(data=\"/content/drive/MyDrive/kaggle/working/data/data.yaml\", epochs=50, imgsz=640, save = True, device = [0])"
      ],
      "metadata": {
        "colab": {
          "base_uri": "https://localhost:8080/"
        },
        "id": "NsMuJRqNLrbs",
        "outputId": "92809aa3-26b0-48f1-89af-69aae5bea646"
      },
      "execution_count": 24,
      "outputs": [
        {
          "output_type": "stream",
          "name": "stdout",
          "text": [
            "Ultralytics 8.3.179 🚀 Python-3.11.13 torch-2.6.0+cu124 CUDA:0 (Tesla T4, 15095MiB)\n",
            "\u001b[34m\u001b[1mengine/trainer: \u001b[0magnostic_nms=False, amp=True, augment=False, auto_augment=randaugment, batch=16, bgr=0.0, box=7.5, cache=False, cfg=None, classes=None, close_mosaic=10, cls=0.5, conf=None, copy_paste=0.0, copy_paste_mode=flip, cos_lr=False, cutmix=0.0, data=/content/drive/MyDrive/kaggle/working/data/data.yaml, degrees=0.0, deterministic=True, device=0, dfl=1.5, dnn=False, dropout=0.0, dynamic=False, embed=None, epochs=50, erasing=0.4, exist_ok=False, fliplr=0.5, flipud=0.0, format=torchscript, fraction=1.0, freeze=None, half=False, hsv_h=0.015, hsv_s=0.7, hsv_v=0.4, imgsz=640, int8=False, iou=0.7, keras=False, kobj=1.0, line_width=None, lr0=0.01, lrf=0.01, mask_ratio=4, max_det=300, mixup=0.0, mode=train, model=yolo11n.pt, momentum=0.937, mosaic=1.0, multi_scale=False, name=train, nbs=64, nms=False, opset=None, optimize=False, optimizer=auto, overlap_mask=True, patience=100, perspective=0.0, plots=True, pose=12.0, pretrained=True, profile=False, project=None, rect=False, resume=False, retina_masks=False, save=True, save_conf=False, save_crop=False, save_dir=runs/detect/train, save_frames=False, save_json=False, save_period=-1, save_txt=False, scale=0.5, seed=0, shear=0.0, show=False, show_boxes=True, show_conf=True, show_labels=True, simplify=True, single_cls=False, source=None, split=val, stream_buffer=False, task=detect, time=None, tracker=botsort.yaml, translate=0.1, val=True, verbose=True, vid_stride=1, visualize=False, warmup_bias_lr=0.1, warmup_epochs=3.0, warmup_momentum=0.8, weight_decay=0.0005, workers=8, workspace=None\n"
          ]
        },
        {
          "output_type": "stream",
          "name": "stderr",
          "text": [
            "Downloading https://ultralytics.com/assets/Arial.ttf to '/root/.config/Ultralytics/Arial.ttf': 100%|██████████| 755k/755k [00:00<00:00, 19.6MB/s]"
          ]
        },
        {
          "output_type": "stream",
          "name": "stdout",
          "text": [
            "Overriding model.yaml nc=80 with nc=3\n",
            "\n",
            "                   from  n    params  module                                       arguments                     \n",
            "  0                  -1  1       464  ultralytics.nn.modules.conv.Conv             [3, 16, 3, 2]                 \n",
            "  1                  -1  1      4672  ultralytics.nn.modules.conv.Conv             [16, 32, 3, 2]                \n",
            "  2                  -1  1      6640  ultralytics.nn.modules.block.C3k2            [32, 64, 1, False, 0.25]      \n",
            "  3                  -1  1     36992  ultralytics.nn.modules.conv.Conv             [64, 64, 3, 2]                \n",
            "  4                  -1  1     26080  ultralytics.nn.modules.block.C3k2            [64, 128, 1, False, 0.25]     \n",
            "  5                  -1  1    147712  ultralytics.nn.modules.conv.Conv             [128, 128, 3, 2]              \n",
            "  6                  -1  1     87040  ultralytics.nn.modules.block.C3k2            [128, 128, 1, True]           \n",
            "  7                  -1  1    295424  ultralytics.nn.modules.conv.Conv             [128, 256, 3, 2]              \n",
            "  8                  -1  1    346112  ultralytics.nn.modules.block.C3k2            [256, 256, 1, True]           \n",
            "  9                  -1  1    164608  ultralytics.nn.modules.block.SPPF            [256, 256, 5]                 \n",
            " 10                  -1  1    249728  ultralytics.nn.modules.block.C2PSA           [256, 256, 1]                 \n",
            " 11                  -1  1         0  torch.nn.modules.upsampling.Upsample         [None, 2, 'nearest']          \n",
            " 12             [-1, 6]  1         0  ultralytics.nn.modules.conv.Concat           [1]                           \n",
            " 13                  -1  1    111296  ultralytics.nn.modules.block.C3k2            [384, 128, 1, False]          \n",
            " 14                  -1  1         0  torch.nn.modules.upsampling.Upsample         [None, 2, 'nearest']          \n",
            " 15             [-1, 4]  1         0  ultralytics.nn.modules.conv.Concat           [1]                           \n",
            " 16                  -1  1     32096  ultralytics.nn.modules.block.C3k2            [256, 64, 1, False]           \n",
            " 17                  -1  1     36992  ultralytics.nn.modules.conv.Conv             [64, 64, 3, 2]                \n",
            " 18            [-1, 13]  1         0  ultralytics.nn.modules.conv.Concat           [1]                           \n",
            " 19                  -1  1     86720  ultralytics.nn.modules.block.C3k2            [192, 128, 1, False]          \n",
            " 20                  -1  1    147712  ultralytics.nn.modules.conv.Conv             [128, 128, 3, 2]              \n",
            " 21            [-1, 10]  1         0  ultralytics.nn.modules.conv.Concat           [1]                           \n",
            " 22                  -1  1    378880  ultralytics.nn.modules.block.C3k2            [384, 256, 1, True]           \n"
          ]
        },
        {
          "output_type": "stream",
          "name": "stderr",
          "text": [
            "\n"
          ]
        },
        {
          "output_type": "stream",
          "name": "stdout",
          "text": [
            " 23        [16, 19, 22]  1    431257  ultralytics.nn.modules.head.Detect           [3, [64, 128, 256]]           \n",
            "YOLO11n summary: 181 layers, 2,590,425 parameters, 2,590,409 gradients, 6.4 GFLOPs\n",
            "\n",
            "Transferred 448/499 items from pretrained weights\n",
            "Freezing layer 'model.23.dfl.conv.weight'\n",
            "\u001b[34m\u001b[1mAMP: \u001b[0mrunning Automatic Mixed Precision (AMP) checks...\n",
            "\u001b[34m\u001b[1mAMP: \u001b[0mchecks passed ✅\n",
            "\u001b[34m\u001b[1mtrain: \u001b[0mFast image access ✅ (ping: 0.4±0.2 ms, read: 127.3±75.3 MB/s, size: 554.7 KB)\n"
          ]
        },
        {
          "output_type": "stream",
          "name": "stderr",
          "text": [
            "\u001b[34m\u001b[1mtrain: \u001b[0mScanning /content/drive/MyDrive/kaggle/working/data/train/labels... 597 images, 0 backgrounds, 0 corrupt: 100%|██████████| 597/597 [00:05<00:00, 109.27it/s]\n"
          ]
        },
        {
          "output_type": "stream",
          "name": "stdout",
          "text": [
            "\u001b[34m\u001b[1mtrain: \u001b[0mNew cache created: /content/drive/MyDrive/kaggle/working/data/train/labels.cache\n",
            "\u001b[34m\u001b[1malbumentations: \u001b[0mBlur(p=0.01, blur_limit=(3, 7)), MedianBlur(p=0.01, blur_limit=(3, 7)), ToGray(p=0.01, method='weighted_average', num_output_channels=3), CLAHE(p=0.01, clip_limit=(1.0, 4.0), tile_grid_size=(8, 8))\n",
            "\u001b[34m\u001b[1mval: \u001b[0mFast image access ✅ (ping: 5.0±5.9 ms, read: 101.1±94.1 MB/s, size: 424.9 KB)\n"
          ]
        },
        {
          "output_type": "stream",
          "name": "stderr",
          "text": [
            "\u001b[34m\u001b[1mval: \u001b[0mScanning /content/drive/MyDrive/kaggle/working/data/val/labels... 170 images, 0 backgrounds, 0 corrupt: 100%|██████████| 170/170 [00:01<00:00, 104.80it/s]\n"
          ]
        },
        {
          "output_type": "stream",
          "name": "stdout",
          "text": [
            "\u001b[34m\u001b[1mval: \u001b[0mNew cache created: /content/drive/MyDrive/kaggle/working/data/val/labels.cache\n",
            "Plotting labels to runs/detect/train/labels.jpg... \n",
            "\u001b[34m\u001b[1moptimizer:\u001b[0m 'optimizer=auto' found, ignoring 'lr0=0.01' and 'momentum=0.937' and determining best 'optimizer', 'lr0' and 'momentum' automatically... \n",
            "\u001b[34m\u001b[1moptimizer:\u001b[0m AdamW(lr=0.001429, momentum=0.9) with parameter groups 81 weight(decay=0.0), 88 weight(decay=0.0005), 87 bias(decay=0.0)\n",
            "Image sizes 640 train, 640 val\n",
            "Using 2 dataloader workers\n",
            "Logging results to \u001b[1mruns/detect/train\u001b[0m\n",
            "Starting training for 50 epochs...\n",
            "\n",
            "      Epoch    GPU_mem   box_loss   cls_loss   dfl_loss  Instances       Size\n"
          ]
        },
        {
          "output_type": "stream",
          "name": "stderr",
          "text": [
            "       1/50      2.54G       1.75      2.999      1.383         39        640: 100%|██████████| 38/38 [00:23<00:00,  1.62it/s]\n",
            "                 Class     Images  Instances      Box(P          R      mAP50  mAP50-95): 100%|██████████| 6/6 [00:05<00:00,  1.13it/s]"
          ]
        },
        {
          "output_type": "stream",
          "name": "stdout",
          "text": [
            "                   all        170        849     0.0124      0.536      0.247      0.147\n"
          ]
        },
        {
          "output_type": "stream",
          "name": "stderr",
          "text": [
            "\n"
          ]
        },
        {
          "output_type": "stream",
          "name": "stdout",
          "text": [
            "\n",
            "      Epoch    GPU_mem   box_loss   cls_loss   dfl_loss  Instances       Size\n"
          ]
        },
        {
          "output_type": "stream",
          "name": "stderr",
          "text": [
            "       2/50      3.52G      1.421      1.581      1.061         35        640: 100%|██████████| 38/38 [00:19<00:00,  2.00it/s]\n",
            "                 Class     Images  Instances      Box(P          R      mAP50  mAP50-95): 100%|██████████| 6/6 [00:03<00:00,  1.51it/s]"
          ]
        },
        {
          "output_type": "stream",
          "name": "stdout",
          "text": [
            "                   all        170        849      0.902      0.165      0.259      0.158\n"
          ]
        },
        {
          "output_type": "stream",
          "name": "stderr",
          "text": [
            "\n"
          ]
        },
        {
          "output_type": "stream",
          "name": "stdout",
          "text": [
            "\n",
            "      Epoch    GPU_mem   box_loss   cls_loss   dfl_loss  Instances       Size\n"
          ]
        },
        {
          "output_type": "stream",
          "name": "stderr",
          "text": [
            "       3/50      3.53G      1.312       1.35      1.061         85        640: 100%|██████████| 38/38 [00:17<00:00,  2.21it/s]\n",
            "                 Class     Images  Instances      Box(P          R      mAP50  mAP50-95): 100%|██████████| 6/6 [00:03<00:00,  1.96it/s]"
          ]
        },
        {
          "output_type": "stream",
          "name": "stdout",
          "text": [
            "                   all        170        849      0.716      0.283      0.343       0.21\n"
          ]
        },
        {
          "output_type": "stream",
          "name": "stderr",
          "text": [
            "\n"
          ]
        },
        {
          "output_type": "stream",
          "name": "stdout",
          "text": [
            "\n",
            "      Epoch    GPU_mem   box_loss   cls_loss   dfl_loss  Instances       Size\n"
          ]
        },
        {
          "output_type": "stream",
          "name": "stderr",
          "text": [
            "       4/50      3.56G      1.265      1.225      1.047         50        640: 100%|██████████| 38/38 [00:18<00:00,  2.07it/s]\n",
            "                 Class     Images  Instances      Box(P          R      mAP50  mAP50-95): 100%|██████████| 6/6 [00:02<00:00,  2.12it/s]"
          ]
        },
        {
          "output_type": "stream",
          "name": "stdout",
          "text": [
            "                   all        170        849      0.489       0.46      0.506      0.301\n"
          ]
        },
        {
          "output_type": "stream",
          "name": "stderr",
          "text": [
            "\n"
          ]
        },
        {
          "output_type": "stream",
          "name": "stdout",
          "text": [
            "\n",
            "      Epoch    GPU_mem   box_loss   cls_loss   dfl_loss  Instances       Size\n"
          ]
        },
        {
          "output_type": "stream",
          "name": "stderr",
          "text": [
            "       5/50      3.56G      1.256      1.149      1.044         63        640: 100%|██████████| 38/38 [00:17<00:00,  2.24it/s]\n",
            "                 Class     Images  Instances      Box(P          R      mAP50  mAP50-95): 100%|██████████| 6/6 [00:02<00:00,  2.57it/s]"
          ]
        },
        {
          "output_type": "stream",
          "name": "stdout",
          "text": [
            "                   all        170        849      0.532      0.468      0.518      0.326\n"
          ]
        },
        {
          "output_type": "stream",
          "name": "stderr",
          "text": [
            "\n"
          ]
        },
        {
          "output_type": "stream",
          "name": "stdout",
          "text": [
            "\n",
            "      Epoch    GPU_mem   box_loss   cls_loss   dfl_loss  Instances       Size\n"
          ]
        },
        {
          "output_type": "stream",
          "name": "stderr",
          "text": [
            "       6/50      3.59G      1.208      1.093      1.028         37        640: 100%|██████████| 38/38 [00:29<00:00,  1.29it/s]\n",
            "                 Class     Images  Instances      Box(P          R      mAP50  mAP50-95): 100%|██████████| 6/6 [00:04<00:00,  1.37it/s]"
          ]
        },
        {
          "output_type": "stream",
          "name": "stdout",
          "text": [
            "                   all        170        849      0.932      0.458      0.544      0.324\n"
          ]
        },
        {
          "output_type": "stream",
          "name": "stderr",
          "text": [
            "\n"
          ]
        },
        {
          "output_type": "stream",
          "name": "stdout",
          "text": [
            "\n",
            "      Epoch    GPU_mem   box_loss   cls_loss   dfl_loss  Instances       Size\n"
          ]
        },
        {
          "output_type": "stream",
          "name": "stderr",
          "text": [
            "       7/50       3.6G      1.215       1.03      1.026         16        640: 100%|██████████| 38/38 [00:18<00:00,  2.00it/s]\n",
            "                 Class     Images  Instances      Box(P          R      mAP50  mAP50-95): 100%|██████████| 6/6 [00:02<00:00,  2.71it/s]"
          ]
        },
        {
          "output_type": "stream",
          "name": "stdout",
          "text": [
            "                   all        170        849      0.624      0.529      0.578      0.359\n"
          ]
        },
        {
          "output_type": "stream",
          "name": "stderr",
          "text": [
            "\n"
          ]
        },
        {
          "output_type": "stream",
          "name": "stdout",
          "text": [
            "\n",
            "      Epoch    GPU_mem   box_loss   cls_loss   dfl_loss  Instances       Size\n"
          ]
        },
        {
          "output_type": "stream",
          "name": "stderr",
          "text": [
            "       8/50      3.62G       1.19     0.9524      1.007         39        640: 100%|██████████| 38/38 [00:18<00:00,  2.07it/s]\n",
            "                 Class     Images  Instances      Box(P          R      mAP50  mAP50-95): 100%|██████████| 6/6 [00:03<00:00,  1.61it/s]\n"
          ]
        },
        {
          "output_type": "stream",
          "name": "stdout",
          "text": [
            "                   all        170        849      0.655      0.561       0.61      0.385\n",
            "\n",
            "      Epoch    GPU_mem   box_loss   cls_loss   dfl_loss  Instances       Size\n"
          ]
        },
        {
          "output_type": "stream",
          "name": "stderr",
          "text": [
            "       9/50      3.62G       1.16     0.9441      1.021         33        640: 100%|██████████| 38/38 [00:18<00:00,  2.11it/s]\n",
            "                 Class     Images  Instances      Box(P          R      mAP50  mAP50-95): 100%|██████████| 6/6 [00:02<00:00,  2.68it/s]"
          ]
        },
        {
          "output_type": "stream",
          "name": "stdout",
          "text": [
            "                   all        170        849       0.62      0.582      0.606      0.372\n"
          ]
        },
        {
          "output_type": "stream",
          "name": "stderr",
          "text": [
            "\n"
          ]
        },
        {
          "output_type": "stream",
          "name": "stdout",
          "text": [
            "\n",
            "      Epoch    GPU_mem   box_loss   cls_loss   dfl_loss  Instances       Size\n"
          ]
        },
        {
          "output_type": "stream",
          "name": "stderr",
          "text": [
            "      10/50      3.64G      1.182     0.9517      1.022         37        640: 100%|██████████| 38/38 [00:19<00:00,  1.97it/s]\n",
            "                 Class     Images  Instances      Box(P          R      mAP50  mAP50-95): 100%|██████████| 6/6 [00:04<00:00,  1.38it/s]\n"
          ]
        },
        {
          "output_type": "stream",
          "name": "stdout",
          "text": [
            "                   all        170        849       0.77      0.595      0.642      0.407\n",
            "\n",
            "      Epoch    GPU_mem   box_loss   cls_loss   dfl_loss  Instances       Size\n"
          ]
        },
        {
          "output_type": "stream",
          "name": "stderr",
          "text": [
            "      11/50      3.65G      1.126     0.8786      1.008         42        640: 100%|██████████| 38/38 [00:17<00:00,  2.14it/s]\n",
            "                 Class     Images  Instances      Box(P          R      mAP50  mAP50-95): 100%|██████████| 6/6 [00:02<00:00,  2.26it/s]\n"
          ]
        },
        {
          "output_type": "stream",
          "name": "stdout",
          "text": [
            "                   all        170        849      0.744      0.613       0.67      0.437\n",
            "\n",
            "      Epoch    GPU_mem   box_loss   cls_loss   dfl_loss  Instances       Size\n"
          ]
        },
        {
          "output_type": "stream",
          "name": "stderr",
          "text": [
            "      12/50      3.67G       1.16     0.8776      1.006         45        640: 100%|██████████| 38/38 [00:17<00:00,  2.13it/s]\n",
            "                 Class     Images  Instances      Box(P          R      mAP50  mAP50-95): 100%|██████████| 6/6 [00:03<00:00,  1.57it/s]"
          ]
        },
        {
          "output_type": "stream",
          "name": "stdout",
          "text": [
            "                   all        170        849      0.786      0.584      0.644      0.408\n"
          ]
        },
        {
          "output_type": "stream",
          "name": "stderr",
          "text": [
            "\n"
          ]
        },
        {
          "output_type": "stream",
          "name": "stdout",
          "text": [
            "\n",
            "      Epoch    GPU_mem   box_loss   cls_loss   dfl_loss  Instances       Size\n"
          ]
        },
        {
          "output_type": "stream",
          "name": "stderr",
          "text": [
            "      13/50      3.68G      1.131     0.8496     0.9933         46        640: 100%|██████████| 38/38 [00:16<00:00,  2.25it/s]\n",
            "                 Class     Images  Instances      Box(P          R      mAP50  mAP50-95): 100%|██████████| 6/6 [00:03<00:00,  1.93it/s]"
          ]
        },
        {
          "output_type": "stream",
          "name": "stdout",
          "text": [
            "                   all        170        849      0.755      0.625      0.685      0.444\n"
          ]
        },
        {
          "output_type": "stream",
          "name": "stderr",
          "text": [
            "\n"
          ]
        },
        {
          "output_type": "stream",
          "name": "stdout",
          "text": [
            "\n",
            "      Epoch    GPU_mem   box_loss   cls_loss   dfl_loss  Instances       Size\n"
          ]
        },
        {
          "output_type": "stream",
          "name": "stderr",
          "text": [
            "      14/50       3.7G      1.119     0.7839     0.9831         35        640: 100%|██████████| 38/38 [00:16<00:00,  2.25it/s]\n",
            "                 Class     Images  Instances      Box(P          R      mAP50  mAP50-95): 100%|██████████| 6/6 [00:04<00:00,  1.45it/s]\n"
          ]
        },
        {
          "output_type": "stream",
          "name": "stdout",
          "text": [
            "                   all        170        849      0.792      0.629      0.715       0.47\n",
            "\n",
            "      Epoch    GPU_mem   box_loss   cls_loss   dfl_loss  Instances       Size\n"
          ]
        },
        {
          "output_type": "stream",
          "name": "stderr",
          "text": [
            "      15/50      3.71G      1.101     0.7758     0.9911         22        640: 100%|██████████| 38/38 [00:17<00:00,  2.16it/s]\n",
            "                 Class     Images  Instances      Box(P          R      mAP50  mAP50-95): 100%|██████████| 6/6 [00:01<00:00,  3.09it/s]"
          ]
        },
        {
          "output_type": "stream",
          "name": "stdout",
          "text": [
            "                   all        170        849      0.827      0.632      0.732       0.48\n"
          ]
        },
        {
          "output_type": "stream",
          "name": "stderr",
          "text": [
            "\n"
          ]
        },
        {
          "output_type": "stream",
          "name": "stdout",
          "text": [
            "\n",
            "      Epoch    GPU_mem   box_loss   cls_loss   dfl_loss  Instances       Size\n"
          ]
        },
        {
          "output_type": "stream",
          "name": "stderr",
          "text": [
            "      16/50      3.73G      1.103     0.7767     0.9944         25        640: 100%|██████████| 38/38 [00:18<00:00,  2.10it/s]\n",
            "                 Class     Images  Instances      Box(P          R      mAP50  mAP50-95): 100%|██████████| 6/6 [00:03<00:00,  1.73it/s]"
          ]
        },
        {
          "output_type": "stream",
          "name": "stdout",
          "text": [
            "                   all        170        849      0.905      0.634      0.737      0.482\n"
          ]
        },
        {
          "output_type": "stream",
          "name": "stderr",
          "text": [
            "\n"
          ]
        },
        {
          "output_type": "stream",
          "name": "stdout",
          "text": [
            "\n",
            "      Epoch    GPU_mem   box_loss   cls_loss   dfl_loss  Instances       Size\n"
          ]
        },
        {
          "output_type": "stream",
          "name": "stderr",
          "text": [
            "      17/50      3.74G      1.114     0.7533     0.9872         30        640: 100%|██████████| 38/38 [00:18<00:00,  2.08it/s]\n",
            "                 Class     Images  Instances      Box(P          R      mAP50  mAP50-95): 100%|██████████| 6/6 [00:02<00:00,  2.80it/s]"
          ]
        },
        {
          "output_type": "stream",
          "name": "stdout",
          "text": [
            "                   all        170        849      0.824      0.627      0.725       0.47\n"
          ]
        },
        {
          "output_type": "stream",
          "name": "stderr",
          "text": [
            "\n"
          ]
        },
        {
          "output_type": "stream",
          "name": "stdout",
          "text": [
            "\n",
            "      Epoch    GPU_mem   box_loss   cls_loss   dfl_loss  Instances       Size\n"
          ]
        },
        {
          "output_type": "stream",
          "name": "stderr",
          "text": [
            "      18/50      3.76G      1.098      0.759     0.9824         44        640: 100%|██████████| 38/38 [00:18<00:00,  2.05it/s]\n",
            "                 Class     Images  Instances      Box(P          R      mAP50  mAP50-95): 100%|██████████| 6/6 [00:02<00:00,  2.15it/s]"
          ]
        },
        {
          "output_type": "stream",
          "name": "stdout",
          "text": [
            "                   all        170        849      0.777       0.62       0.71      0.462\n"
          ]
        },
        {
          "output_type": "stream",
          "name": "stderr",
          "text": [
            "\n"
          ]
        },
        {
          "output_type": "stream",
          "name": "stdout",
          "text": [
            "\n",
            "      Epoch    GPU_mem   box_loss   cls_loss   dfl_loss  Instances       Size\n"
          ]
        },
        {
          "output_type": "stream",
          "name": "stderr",
          "text": [
            "      19/50      3.77G      1.092     0.7387     0.9771         38        640: 100%|██████████| 38/38 [00:18<00:00,  2.02it/s]\n",
            "                 Class     Images  Instances      Box(P          R      mAP50  mAP50-95): 100%|██████████| 6/6 [00:02<00:00,  2.96it/s]"
          ]
        },
        {
          "output_type": "stream",
          "name": "stdout",
          "text": [
            "                   all        170        849      0.678       0.68      0.721      0.477\n"
          ]
        },
        {
          "output_type": "stream",
          "name": "stderr",
          "text": [
            "\n"
          ]
        },
        {
          "output_type": "stream",
          "name": "stdout",
          "text": [
            "\n",
            "      Epoch    GPU_mem   box_loss   cls_loss   dfl_loss  Instances       Size\n"
          ]
        },
        {
          "output_type": "stream",
          "name": "stderr",
          "text": [
            "      20/50      3.79G      1.063     0.7322      0.974         34        640: 100%|██████████| 38/38 [00:18<00:00,  2.10it/s]\n",
            "                 Class     Images  Instances      Box(P          R      mAP50  mAP50-95): 100%|██████████| 6/6 [00:02<00:00,  2.35it/s]"
          ]
        },
        {
          "output_type": "stream",
          "name": "stdout",
          "text": [
            "                   all        170        849      0.743      0.703      0.754      0.496\n"
          ]
        },
        {
          "output_type": "stream",
          "name": "stderr",
          "text": [
            "\n"
          ]
        },
        {
          "output_type": "stream",
          "name": "stdout",
          "text": [
            "\n",
            "      Epoch    GPU_mem   box_loss   cls_loss   dfl_loss  Instances       Size\n"
          ]
        },
        {
          "output_type": "stream",
          "name": "stderr",
          "text": [
            "      21/50       3.8G      1.065     0.7063     0.9798         36        640: 100%|██████████| 38/38 [00:18<00:00,  2.01it/s]\n",
            "                 Class     Images  Instances      Box(P          R      mAP50  mAP50-95): 100%|██████████| 6/6 [00:02<00:00,  3.00it/s]\n"
          ]
        },
        {
          "output_type": "stream",
          "name": "stdout",
          "text": [
            "                   all        170        849      0.743      0.676      0.713       0.48\n",
            "\n",
            "      Epoch    GPU_mem   box_loss   cls_loss   dfl_loss  Instances       Size\n"
          ]
        },
        {
          "output_type": "stream",
          "name": "stderr",
          "text": [
            "      22/50      3.82G      1.086     0.6944     0.9743         47        640: 100%|██████████| 38/38 [00:18<00:00,  2.10it/s]\n",
            "                 Class     Images  Instances      Box(P          R      mAP50  mAP50-95): 100%|██████████| 6/6 [00:03<00:00,  1.81it/s]"
          ]
        },
        {
          "output_type": "stream",
          "name": "stdout",
          "text": [
            "                   all        170        849      0.882      0.614      0.751      0.481\n"
          ]
        },
        {
          "output_type": "stream",
          "name": "stderr",
          "text": [
            "\n"
          ]
        },
        {
          "output_type": "stream",
          "name": "stdout",
          "text": [
            "\n",
            "      Epoch    GPU_mem   box_loss   cls_loss   dfl_loss  Instances       Size\n"
          ]
        },
        {
          "output_type": "stream",
          "name": "stderr",
          "text": [
            "      23/50      3.83G       1.09     0.7197     0.9699         37        640: 100%|██████████| 38/38 [00:19<00:00,  1.91it/s]\n",
            "                 Class     Images  Instances      Box(P          R      mAP50  mAP50-95): 100%|██████████| 6/6 [00:02<00:00,  2.81it/s]"
          ]
        },
        {
          "output_type": "stream",
          "name": "stdout",
          "text": [
            "                   all        170        849       0.92       0.68      0.767      0.504\n"
          ]
        },
        {
          "output_type": "stream",
          "name": "stderr",
          "text": [
            "\n"
          ]
        },
        {
          "output_type": "stream",
          "name": "stdout",
          "text": [
            "\n",
            "      Epoch    GPU_mem   box_loss   cls_loss   dfl_loss  Instances       Size\n"
          ]
        },
        {
          "output_type": "stream",
          "name": "stderr",
          "text": [
            "      24/50      3.85G      1.062     0.6832     0.9668         91        640: 100%|██████████| 38/38 [00:19<00:00,  2.00it/s]\n",
            "                 Class     Images  Instances      Box(P          R      mAP50  mAP50-95): 100%|██████████| 6/6 [00:02<00:00,  2.27it/s]"
          ]
        },
        {
          "output_type": "stream",
          "name": "stdout",
          "text": [
            "                   all        170        849      0.869      0.644      0.743      0.499\n"
          ]
        },
        {
          "output_type": "stream",
          "name": "stderr",
          "text": [
            "\n"
          ]
        },
        {
          "output_type": "stream",
          "name": "stdout",
          "text": [
            "\n",
            "      Epoch    GPU_mem   box_loss   cls_loss   dfl_loss  Instances       Size\n"
          ]
        },
        {
          "output_type": "stream",
          "name": "stderr",
          "text": [
            "      25/50      3.86G       1.04     0.6627     0.9621         41        640: 100%|██████████| 38/38 [00:18<00:00,  2.08it/s]\n",
            "                 Class     Images  Instances      Box(P          R      mAP50  mAP50-95): 100%|██████████| 6/6 [00:02<00:00,  2.72it/s]"
          ]
        },
        {
          "output_type": "stream",
          "name": "stdout",
          "text": [
            "                   all        170        849      0.744      0.748      0.774      0.511\n"
          ]
        },
        {
          "output_type": "stream",
          "name": "stderr",
          "text": [
            "\n"
          ]
        },
        {
          "output_type": "stream",
          "name": "stdout",
          "text": [
            "\n",
            "      Epoch    GPU_mem   box_loss   cls_loss   dfl_loss  Instances       Size\n"
          ]
        },
        {
          "output_type": "stream",
          "name": "stderr",
          "text": [
            "      26/50      3.88G      1.047     0.6546     0.9652         41        640: 100%|██████████| 38/38 [00:19<00:00,  1.96it/s]\n",
            "                 Class     Images  Instances      Box(P          R      mAP50  mAP50-95): 100%|██████████| 6/6 [00:02<00:00,  2.17it/s]"
          ]
        },
        {
          "output_type": "stream",
          "name": "stdout",
          "text": [
            "                   all        170        849      0.857      0.716       0.79      0.525\n"
          ]
        },
        {
          "output_type": "stream",
          "name": "stderr",
          "text": [
            "\n"
          ]
        },
        {
          "output_type": "stream",
          "name": "stdout",
          "text": [
            "\n",
            "      Epoch    GPU_mem   box_loss   cls_loss   dfl_loss  Instances       Size\n"
          ]
        },
        {
          "output_type": "stream",
          "name": "stderr",
          "text": [
            "      27/50      3.89G      1.045     0.6608     0.9598         44        640: 100%|██████████| 38/38 [00:18<00:00,  2.08it/s]\n",
            "                 Class     Images  Instances      Box(P          R      mAP50  mAP50-95): 100%|██████████| 6/6 [00:02<00:00,  2.75it/s]"
          ]
        },
        {
          "output_type": "stream",
          "name": "stdout",
          "text": [
            "                   all        170        849      0.879      0.687      0.801      0.525\n"
          ]
        },
        {
          "output_type": "stream",
          "name": "stderr",
          "text": [
            "\n"
          ]
        },
        {
          "output_type": "stream",
          "name": "stdout",
          "text": [
            "\n",
            "      Epoch    GPU_mem   box_loss   cls_loss   dfl_loss  Instances       Size\n"
          ]
        },
        {
          "output_type": "stream",
          "name": "stderr",
          "text": [
            "      28/50      3.91G      1.017     0.6278      0.953         56        640: 100%|██████████| 38/38 [00:17<00:00,  2.17it/s]\n",
            "                 Class     Images  Instances      Box(P          R      mAP50  mAP50-95): 100%|██████████| 6/6 [00:04<00:00,  1.42it/s]"
          ]
        },
        {
          "output_type": "stream",
          "name": "stdout",
          "text": [
            "                   all        170        849      0.739      0.721      0.773      0.501\n"
          ]
        },
        {
          "output_type": "stream",
          "name": "stderr",
          "text": [
            "\n"
          ]
        },
        {
          "output_type": "stream",
          "name": "stdout",
          "text": [
            "\n",
            "      Epoch    GPU_mem   box_loss   cls_loss   dfl_loss  Instances       Size\n"
          ]
        },
        {
          "output_type": "stream",
          "name": "stderr",
          "text": [
            "      29/50      3.92G      1.045     0.6439     0.9566         41        640: 100%|██████████| 38/38 [00:16<00:00,  2.25it/s]\n",
            "                 Class     Images  Instances      Box(P          R      mAP50  mAP50-95): 100%|██████████| 6/6 [00:02<00:00,  2.19it/s]"
          ]
        },
        {
          "output_type": "stream",
          "name": "stdout",
          "text": [
            "                   all        170        849      0.848      0.722      0.797      0.527\n"
          ]
        },
        {
          "output_type": "stream",
          "name": "stderr",
          "text": [
            "\n"
          ]
        },
        {
          "output_type": "stream",
          "name": "stdout",
          "text": [
            "\n",
            "      Epoch    GPU_mem   box_loss   cls_loss   dfl_loss  Instances       Size\n"
          ]
        },
        {
          "output_type": "stream",
          "name": "stderr",
          "text": [
            "      30/50      3.94G      1.004     0.6215     0.9526         17        640: 100%|██████████| 38/38 [00:17<00:00,  2.23it/s]\n",
            "                 Class     Images  Instances      Box(P          R      mAP50  mAP50-95): 100%|██████████| 6/6 [00:03<00:00,  1.55it/s]"
          ]
        },
        {
          "output_type": "stream",
          "name": "stdout",
          "text": [
            "                   all        170        849      0.863      0.688      0.785      0.528\n"
          ]
        },
        {
          "output_type": "stream",
          "name": "stderr",
          "text": [
            "\n"
          ]
        },
        {
          "output_type": "stream",
          "name": "stdout",
          "text": [
            "\n",
            "      Epoch    GPU_mem   box_loss   cls_loss   dfl_loss  Instances       Size\n"
          ]
        },
        {
          "output_type": "stream",
          "name": "stderr",
          "text": [
            "      31/50      3.95G      1.031     0.6166     0.9506         65        640: 100%|██████████| 38/38 [00:17<00:00,  2.11it/s]\n",
            "                 Class     Images  Instances      Box(P          R      mAP50  mAP50-95): 100%|██████████| 6/6 [00:02<00:00,  2.79it/s]"
          ]
        },
        {
          "output_type": "stream",
          "name": "stdout",
          "text": [
            "                   all        170        849      0.846      0.706      0.791      0.523\n"
          ]
        },
        {
          "output_type": "stream",
          "name": "stderr",
          "text": [
            "\n"
          ]
        },
        {
          "output_type": "stream",
          "name": "stdout",
          "text": [
            "\n",
            "      Epoch    GPU_mem   box_loss   cls_loss   dfl_loss  Instances       Size\n"
          ]
        },
        {
          "output_type": "stream",
          "name": "stderr",
          "text": [
            "      32/50      3.97G      1.024     0.6194     0.9525         32        640: 100%|██████████| 38/38 [00:18<00:00,  2.03it/s]\n",
            "                 Class     Images  Instances      Box(P          R      mAP50  mAP50-95): 100%|██████████| 6/6 [00:03<00:00,  1.67it/s]"
          ]
        },
        {
          "output_type": "stream",
          "name": "stdout",
          "text": [
            "                   all        170        849      0.938      0.697      0.789      0.527\n"
          ]
        },
        {
          "output_type": "stream",
          "name": "stderr",
          "text": [
            "\n"
          ]
        },
        {
          "output_type": "stream",
          "name": "stdout",
          "text": [
            "\n",
            "      Epoch    GPU_mem   box_loss   cls_loss   dfl_loss  Instances       Size\n"
          ]
        },
        {
          "output_type": "stream",
          "name": "stderr",
          "text": [
            "      33/50      3.98G     0.9758     0.5943     0.9451         47        640: 100%|██████████| 38/38 [00:18<00:00,  2.06it/s]\n",
            "                 Class     Images  Instances      Box(P          R      mAP50  mAP50-95): 100%|██████████| 6/6 [00:02<00:00,  2.95it/s]"
          ]
        },
        {
          "output_type": "stream",
          "name": "stdout",
          "text": [
            "                   all        170        849      0.842      0.701      0.777      0.508\n"
          ]
        },
        {
          "output_type": "stream",
          "name": "stderr",
          "text": [
            "\n"
          ]
        },
        {
          "output_type": "stream",
          "name": "stdout",
          "text": [
            "\n",
            "      Epoch    GPU_mem   box_loss   cls_loss   dfl_loss  Instances       Size\n"
          ]
        },
        {
          "output_type": "stream",
          "name": "stderr",
          "text": [
            "      34/50         4G     0.9965       0.59     0.9513         41        640: 100%|██████████| 38/38 [00:18<00:00,  2.03it/s]\n",
            "                 Class     Images  Instances      Box(P          R      mAP50  mAP50-95): 100%|██████████| 6/6 [00:02<00:00,  2.14it/s]\n"
          ]
        },
        {
          "output_type": "stream",
          "name": "stdout",
          "text": [
            "                   all        170        849      0.915      0.729      0.816      0.549\n",
            "\n",
            "      Epoch    GPU_mem   box_loss   cls_loss   dfl_loss  Instances       Size\n"
          ]
        },
        {
          "output_type": "stream",
          "name": "stderr",
          "text": [
            "      35/50      4.01G     0.9982     0.5849     0.9466         21        640: 100%|██████████| 38/38 [00:18<00:00,  2.02it/s]\n",
            "                 Class     Images  Instances      Box(P          R      mAP50  mAP50-95): 100%|██████████| 6/6 [00:02<00:00,  2.93it/s]"
          ]
        },
        {
          "output_type": "stream",
          "name": "stdout",
          "text": [
            "                   all        170        849      0.848      0.717      0.796       0.53\n"
          ]
        },
        {
          "output_type": "stream",
          "name": "stderr",
          "text": [
            "\n"
          ]
        },
        {
          "output_type": "stream",
          "name": "stdout",
          "text": [
            "\n",
            "      Epoch    GPU_mem   box_loss   cls_loss   dfl_loss  Instances       Size\n"
          ]
        },
        {
          "output_type": "stream",
          "name": "stderr",
          "text": [
            "      36/50      4.03G     0.9892     0.5847      0.931         44        640: 100%|██████████| 38/38 [00:18<00:00,  2.07it/s]\n",
            "                 Class     Images  Instances      Box(P          R      mAP50  mAP50-95): 100%|██████████| 6/6 [00:02<00:00,  2.21it/s]"
          ]
        },
        {
          "output_type": "stream",
          "name": "stdout",
          "text": [
            "                   all        170        849      0.827      0.703      0.789      0.533\n"
          ]
        },
        {
          "output_type": "stream",
          "name": "stderr",
          "text": [
            "\n"
          ]
        },
        {
          "output_type": "stream",
          "name": "stdout",
          "text": [
            "\n",
            "      Epoch    GPU_mem   box_loss   cls_loss   dfl_loss  Instances       Size\n"
          ]
        },
        {
          "output_type": "stream",
          "name": "stderr",
          "text": [
            "      37/50      4.04G     0.9734     0.5723     0.9373         62        640: 100%|██████████| 38/38 [00:19<00:00,  1.99it/s]\n",
            "                 Class     Images  Instances      Box(P          R      mAP50  mAP50-95): 100%|██████████| 6/6 [00:02<00:00,  2.87it/s]"
          ]
        },
        {
          "output_type": "stream",
          "name": "stdout",
          "text": [
            "                   all        170        849      0.837      0.743      0.807      0.541\n"
          ]
        },
        {
          "output_type": "stream",
          "name": "stderr",
          "text": [
            "\n"
          ]
        },
        {
          "output_type": "stream",
          "name": "stdout",
          "text": [
            "\n",
            "      Epoch    GPU_mem   box_loss   cls_loss   dfl_loss  Instances       Size\n"
          ]
        },
        {
          "output_type": "stream",
          "name": "stderr",
          "text": [
            "      38/50      4.06G     0.9751     0.5776     0.9442         22        640: 100%|██████████| 38/38 [00:18<00:00,  2.07it/s]\n",
            "                 Class     Images  Instances      Box(P          R      mAP50  mAP50-95): 100%|██████████| 6/6 [00:03<00:00,  1.80it/s]"
          ]
        },
        {
          "output_type": "stream",
          "name": "stdout",
          "text": [
            "                   all        170        849      0.911      0.695      0.815      0.548\n"
          ]
        },
        {
          "output_type": "stream",
          "name": "stderr",
          "text": [
            "\n"
          ]
        },
        {
          "output_type": "stream",
          "name": "stdout",
          "text": [
            "\n",
            "      Epoch    GPU_mem   box_loss   cls_loss   dfl_loss  Instances       Size\n"
          ]
        },
        {
          "output_type": "stream",
          "name": "stderr",
          "text": [
            "      39/50      4.07G     0.9748     0.5659     0.9389         48        640: 100%|██████████| 38/38 [00:18<00:00,  2.01it/s]\n",
            "                 Class     Images  Instances      Box(P          R      mAP50  mAP50-95): 100%|██████████| 6/6 [00:02<00:00,  2.83it/s]"
          ]
        },
        {
          "output_type": "stream",
          "name": "stdout",
          "text": [
            "                   all        170        849       0.89      0.711       0.82      0.551\n"
          ]
        },
        {
          "output_type": "stream",
          "name": "stderr",
          "text": [
            "\n"
          ]
        },
        {
          "output_type": "stream",
          "name": "stdout",
          "text": [
            "\n",
            "      Epoch    GPU_mem   box_loss   cls_loss   dfl_loss  Instances       Size\n"
          ]
        },
        {
          "output_type": "stream",
          "name": "stderr",
          "text": [
            "      40/50      4.09G     0.9631     0.5506     0.9381         19        640: 100%|██████████| 38/38 [00:18<00:00,  2.06it/s]\n",
            "                 Class     Images  Instances      Box(P          R      mAP50  mAP50-95): 100%|██████████| 6/6 [00:02<00:00,  2.25it/s]"
          ]
        },
        {
          "output_type": "stream",
          "name": "stdout",
          "text": [
            "                   all        170        849      0.925      0.715      0.813      0.541\n"
          ]
        },
        {
          "output_type": "stream",
          "name": "stderr",
          "text": [
            "\n"
          ]
        },
        {
          "output_type": "stream",
          "name": "stdout",
          "text": [
            "Closing dataloader mosaic\n",
            "\u001b[34m\u001b[1malbumentations: \u001b[0mBlur(p=0.01, blur_limit=(3, 7)), MedianBlur(p=0.01, blur_limit=(3, 7)), ToGray(p=0.01, method='weighted_average', num_output_channels=3), CLAHE(p=0.01, clip_limit=(1.0, 4.0), tile_grid_size=(8, 8))\n",
            "\n",
            "      Epoch    GPU_mem   box_loss   cls_loss   dfl_loss  Instances       Size\n"
          ]
        },
        {
          "output_type": "stream",
          "name": "stderr",
          "text": [
            "      41/50       4.1G      0.936     0.5606     0.9272         13        640: 100%|██████████| 38/38 [00:20<00:00,  1.84it/s]\n",
            "                 Class     Images  Instances      Box(P          R      mAP50  mAP50-95): 100%|██████████| 6/6 [00:02<00:00,  2.95it/s]\n"
          ]
        },
        {
          "output_type": "stream",
          "name": "stdout",
          "text": [
            "                   all        170        849       0.88      0.681      0.799      0.535\n",
            "\n",
            "      Epoch    GPU_mem   box_loss   cls_loss   dfl_loss  Instances       Size\n"
          ]
        },
        {
          "output_type": "stream",
          "name": "stderr",
          "text": [
            "      42/50      4.12G      0.938     0.5427      0.924          7        640: 100%|██████████| 38/38 [00:18<00:00,  2.08it/s]\n",
            "                 Class     Images  Instances      Box(P          R      mAP50  mAP50-95): 100%|██████████| 6/6 [00:03<00:00,  1.93it/s]"
          ]
        },
        {
          "output_type": "stream",
          "name": "stdout",
          "text": [
            "                   all        170        849      0.864      0.721      0.796      0.529\n"
          ]
        },
        {
          "output_type": "stream",
          "name": "stderr",
          "text": [
            "\n"
          ]
        },
        {
          "output_type": "stream",
          "name": "stdout",
          "text": [
            "\n",
            "      Epoch    GPU_mem   box_loss   cls_loss   dfl_loss  Instances       Size\n"
          ]
        },
        {
          "output_type": "stream",
          "name": "stderr",
          "text": [
            "      43/50      4.13G      0.937      0.528     0.9199         27        640: 100%|██████████| 38/38 [00:18<00:00,  2.10it/s]\n",
            "                 Class     Images  Instances      Box(P          R      mAP50  mAP50-95): 100%|██████████| 6/6 [00:02<00:00,  2.96it/s]"
          ]
        },
        {
          "output_type": "stream",
          "name": "stdout",
          "text": [
            "                   all        170        849      0.942       0.71      0.824      0.555\n"
          ]
        },
        {
          "output_type": "stream",
          "name": "stderr",
          "text": [
            "\n"
          ]
        },
        {
          "output_type": "stream",
          "name": "stdout",
          "text": [
            "\n",
            "      Epoch    GPU_mem   box_loss   cls_loss   dfl_loss  Instances       Size\n"
          ]
        },
        {
          "output_type": "stream",
          "name": "stderr",
          "text": [
            "      44/50      4.15G     0.9217     0.5073     0.9199         10        640: 100%|██████████| 38/38 [00:18<00:00,  2.09it/s]\n",
            "                 Class     Images  Instances      Box(P          R      mAP50  mAP50-95): 100%|██████████| 6/6 [00:02<00:00,  2.98it/s]"
          ]
        },
        {
          "output_type": "stream",
          "name": "stdout",
          "text": [
            "                   all        170        849      0.894      0.738      0.819      0.552\n"
          ]
        },
        {
          "output_type": "stream",
          "name": "stderr",
          "text": [
            "\n"
          ]
        },
        {
          "output_type": "stream",
          "name": "stdout",
          "text": [
            "\n",
            "      Epoch    GPU_mem   box_loss   cls_loss   dfl_loss  Instances       Size\n"
          ]
        },
        {
          "output_type": "stream",
          "name": "stderr",
          "text": [
            "      45/50      4.15G     0.9298     0.5133     0.9192         25        640: 100%|██████████| 38/38 [00:18<00:00,  2.08it/s]\n",
            "                 Class     Images  Instances      Box(P          R      mAP50  mAP50-95): 100%|██████████| 6/6 [00:03<00:00,  1.90it/s]"
          ]
        },
        {
          "output_type": "stream",
          "name": "stdout",
          "text": [
            "                   all        170        849      0.893      0.704      0.813      0.549\n"
          ]
        },
        {
          "output_type": "stream",
          "name": "stderr",
          "text": [
            "\n"
          ]
        },
        {
          "output_type": "stream",
          "name": "stdout",
          "text": [
            "\n",
            "      Epoch    GPU_mem   box_loss   cls_loss   dfl_loss  Instances       Size\n"
          ]
        },
        {
          "output_type": "stream",
          "name": "stderr",
          "text": [
            "      46/50      4.18G     0.9118     0.5014     0.9143         22        640: 100%|██████████| 38/38 [00:16<00:00,  2.31it/s]\n",
            "                 Class     Images  Instances      Box(P          R      mAP50  mAP50-95): 100%|██████████| 6/6 [00:02<00:00,  2.01it/s]"
          ]
        },
        {
          "output_type": "stream",
          "name": "stdout",
          "text": [
            "                   all        170        849      0.916      0.712      0.825      0.554\n"
          ]
        },
        {
          "output_type": "stream",
          "name": "stderr",
          "text": [
            "\n"
          ]
        },
        {
          "output_type": "stream",
          "name": "stdout",
          "text": [
            "\n",
            "      Epoch    GPU_mem   box_loss   cls_loss   dfl_loss  Instances       Size\n"
          ]
        },
        {
          "output_type": "stream",
          "name": "stderr",
          "text": [
            "      47/50      4.19G     0.8964     0.4855     0.9111         18        640: 100%|██████████| 38/38 [00:17<00:00,  2.17it/s]\n",
            "                 Class     Images  Instances      Box(P          R      mAP50  mAP50-95): 100%|██████████| 6/6 [00:03<00:00,  1.62it/s]"
          ]
        },
        {
          "output_type": "stream",
          "name": "stdout",
          "text": [
            "                   all        170        849      0.926      0.727      0.824      0.559\n"
          ]
        },
        {
          "output_type": "stream",
          "name": "stderr",
          "text": [
            "\n"
          ]
        },
        {
          "output_type": "stream",
          "name": "stdout",
          "text": [
            "\n",
            "      Epoch    GPU_mem   box_loss   cls_loss   dfl_loss  Instances       Size\n"
          ]
        },
        {
          "output_type": "stream",
          "name": "stderr",
          "text": [
            "      48/50      4.21G     0.8932     0.4913     0.9063         28        640: 100%|██████████| 38/38 [00:17<00:00,  2.22it/s]\n",
            "                 Class     Images  Instances      Box(P          R      mAP50  mAP50-95): 100%|██████████| 6/6 [00:02<00:00,  2.71it/s]"
          ]
        },
        {
          "output_type": "stream",
          "name": "stdout",
          "text": [
            "                   all        170        849      0.943      0.701      0.817      0.554\n"
          ]
        },
        {
          "output_type": "stream",
          "name": "stderr",
          "text": [
            "\n"
          ]
        },
        {
          "output_type": "stream",
          "name": "stdout",
          "text": [
            "\n",
            "      Epoch    GPU_mem   box_loss   cls_loss   dfl_loss  Instances       Size\n"
          ]
        },
        {
          "output_type": "stream",
          "name": "stderr",
          "text": [
            "      49/50      4.22G     0.8871     0.4819     0.9087         11        640: 100%|██████████| 38/38 [00:17<00:00,  2.13it/s]\n",
            "                 Class     Images  Instances      Box(P          R      mAP50  mAP50-95): 100%|██████████| 6/6 [00:03<00:00,  1.86it/s]"
          ]
        },
        {
          "output_type": "stream",
          "name": "stdout",
          "text": [
            "                   all        170        849      0.866      0.755       0.83      0.564\n"
          ]
        },
        {
          "output_type": "stream",
          "name": "stderr",
          "text": [
            "\n"
          ]
        },
        {
          "output_type": "stream",
          "name": "stdout",
          "text": [
            "\n",
            "      Epoch    GPU_mem   box_loss   cls_loss   dfl_loss  Instances       Size\n"
          ]
        },
        {
          "output_type": "stream",
          "name": "stderr",
          "text": [
            "      50/50      4.24G     0.8836     0.4766     0.9075         27        640: 100%|██████████| 38/38 [00:18<00:00,  2.11it/s]\n",
            "                 Class     Images  Instances      Box(P          R      mAP50  mAP50-95): 100%|██████████| 6/6 [00:02<00:00,  2.98it/s]"
          ]
        },
        {
          "output_type": "stream",
          "name": "stdout",
          "text": [
            "                   all        170        849       0.85      0.774      0.827      0.564\n"
          ]
        },
        {
          "output_type": "stream",
          "name": "stderr",
          "text": [
            "\n"
          ]
        },
        {
          "output_type": "stream",
          "name": "stdout",
          "text": [
            "\n",
            "50 epochs completed in 0.311 hours.\n",
            "Optimizer stripped from runs/detect/train/weights/last.pt, 5.5MB\n",
            "Optimizer stripped from runs/detect/train/weights/best.pt, 5.5MB\n",
            "\n",
            "Validating runs/detect/train/weights/best.pt...\n",
            "Ultralytics 8.3.179 🚀 Python-3.11.13 torch-2.6.0+cu124 CUDA:0 (Tesla T4, 15095MiB)\n",
            "YOLO11n summary (fused): 100 layers, 2,582,737 parameters, 0 gradients, 6.3 GFLOPs\n"
          ]
        },
        {
          "output_type": "stream",
          "name": "stderr",
          "text": [
            "                 Class     Images  Instances      Box(P          R      mAP50  mAP50-95): 100%|██████████| 6/6 [00:06<00:00,  1.13s/it]\n"
          ]
        },
        {
          "output_type": "stream",
          "name": "stdout",
          "text": [
            "                   all        170        849      0.866      0.755      0.829      0.564\n",
            "             with_mask        153        654      0.928      0.875      0.941      0.641\n",
            " mask_weared_incorrect         58        171      0.896      0.766      0.863      0.545\n",
            "          without_mask         19         24      0.773      0.625      0.682      0.507\n",
            "Speed: 0.8ms preprocess, 4.8ms inference, 0.0ms loss, 10.4ms postprocess per image\n",
            "Results saved to \u001b[1mruns/detect/train\u001b[0m\n"
          ]
        }
      ]
    },
    {
      "cell_type": "markdown",
      "source": [
        "# Model Testing"
      ],
      "metadata": {
        "id": "wP3dLcCc1hBp"
      }
    },
    {
      "cell_type": "code",
      "source": [
        "model_predict = YOLO(\"/content/runs/detect/train/weights/best.pt\")"
      ],
      "metadata": {
        "id": "llV0b2aYLrfK"
      },
      "execution_count": 26,
      "outputs": []
    },
    {
      "cell_type": "code",
      "source": [
        "model_predict.predict(\"/content/drive/MyDrive/kaggle/working/data/test/images/maksssksksss636.png\", save=True)"
      ],
      "metadata": {
        "colab": {
          "base_uri": "https://localhost:8080/"
        },
        "id": "gBs3-4fTdLIt",
        "outputId": "b3c45bb3-ef0b-406b-dab7-2113f42cbc1d"
      },
      "execution_count": 31,
      "outputs": [
        {
          "output_type": "stream",
          "name": "stdout",
          "text": [
            "\n",
            "image 1/1 /content/drive/MyDrive/kaggle/working/data/test/images/maksssksksss636.png: 480x640 6 with_masks, 2 mask_weared_incorrects, 91.5ms\n",
            "Speed: 4.6ms preprocess, 91.5ms inference, 2.1ms postprocess per image at shape (1, 3, 480, 640)\n",
            "Results saved to \u001b[1mruns/detect/predict\u001b[0m\n"
          ]
        },
        {
          "output_type": "execute_result",
          "data": {
            "text/plain": [
              "[ultralytics.engine.results.Results object with attributes:\n",
              " \n",
              " boxes: ultralytics.engine.results.Boxes object\n",
              " keypoints: None\n",
              " masks: None\n",
              " names: {0: 'with_mask', 1: 'mask_weared_incorrect', 2: 'without_mask'}\n",
              " obb: None\n",
              " orig_img: array([[[ 66,  65, 124],\n",
              "         [ 47,  46, 115],\n",
              "         [ 45,  45, 124],\n",
              "         ...,\n",
              "         [ 47,  43, 149],\n",
              "         [ 42,  41, 158],\n",
              "         [ 50,  52, 165]],\n",
              " \n",
              "        [[ 70,  66, 149],\n",
              "         [ 47,  46, 134],\n",
              "         [ 37,  37, 129],\n",
              "         ...,\n",
              "         [ 42,  38, 146],\n",
              "         [ 37,  36, 155],\n",
              "         [ 45,  47, 163]],\n",
              " \n",
              "        [[ 64,  54, 141],\n",
              "         [ 46,  41, 127],\n",
              "         [ 39,  35, 121],\n",
              "         ...,\n",
              "         [ 45,  40, 149],\n",
              "         [ 38,  38, 159],\n",
              "         [ 47,  48, 166]],\n",
              " \n",
              "        ...,\n",
              " \n",
              "        [[ 57,  72,  88],\n",
              "         [ 53,  65,  82],\n",
              "         [ 54,  64,  81],\n",
              "         ...,\n",
              "         [116, 116, 112],\n",
              "         [141, 141, 138],\n",
              "         [163, 164, 160]],\n",
              " \n",
              "        [[ 60,  75,  90],\n",
              "         [ 57,  69,  85],\n",
              "         [ 59,  69,  85],\n",
              "         ...,\n",
              "         [174, 173, 168],\n",
              "         [136, 136, 132],\n",
              "         [120, 121, 118]],\n",
              " \n",
              "        [[ 75,  88, 102],\n",
              "         [ 69,  81,  96],\n",
              "         [ 66,  78,  93],\n",
              "         ...,\n",
              "         [170, 166, 164],\n",
              "         [158, 159, 155],\n",
              "         [156, 160, 155]]], dtype=uint8)\n",
              " orig_shape: (300, 400)\n",
              " path: '/content/drive/MyDrive/kaggle/working/data/test/images/maksssksksss636.png'\n",
              " probs: None\n",
              " save_dir: 'runs/detect/predict'\n",
              " speed: {'preprocess': 4.621265999958268, 'inference': 91.54718700028752, 'postprocess': 2.085809000163863}]"
            ]
          },
          "metadata": {},
          "execution_count": 31
        }
      ]
    },
    {
      "cell_type": "code",
      "source": [
        "Image.open(\"/content/runs/detect/predict/maksssksksss636.jpg\")"
      ],
      "metadata": {
        "colab": {
          "base_uri": "https://localhost:8080/",
          "height": 317
        },
        "id": "y4EXzDuzdLLc",
        "outputId": "47925e49-ec32-4dd8-8fa2-188e7478fa15"
      },
      "execution_count": 32,
      "outputs": [
        {
          "output_type": "execute_result",
          "data": {
            "text/plain": [
              "<PIL.JpegImagePlugin.JpegImageFile image mode=RGB size=400x300>"
            ],
            "image/png": "[encoded data removed]",
            "image/jpeg": "[encoded data removed]"
          },
          "metadata": {},
          "execution_count": 32
        }
      ]
    },
    {
      "cell_type": "code",
      "source": [
        "from ultralytics import YOLO\n",
        "\n",
        "# Load your trained model\n",
        "model = YOLO(\"/content/runs/detect/train/weights/best.pt\")\n",
        "\n",
        "# Input video path\n",
        "input_video = \"/content/stock-footage-multi-ethnic-passengers-in-tram-wearing-protective-face-masks-diverse-people-travel-on-public.webm\"  # or upload a video\n",
        "\n",
        "# Run prediction on the video and save output\n",
        "results = model.predict(\n",
        "    source=input_video,      # video file\n",
        "    save=True,               # save a single output video with boxes & labels\n",
        "    conf=0.25,               # confidence threshold\n",
        "    project=\"/content/drive/MyDrive/kaggle/working/runs/detect\",\n",
        "    name=\"video_output\"      # output folder\n",
        ")\n",
        "\n",
        "print(\"✅ Output video saved in:\")\n",
        "print(\"/content/drive/MyDrive/kaggle/working/runs/detect/video_output/\")\n"
      ],
      "metadata": {
        "colab": {
          "base_uri": "https://localhost:8080/"
        },
        "id": "Zl-yRa-NdLOm",
        "outputId": "25a0b3d9-2dd2-4763-bbe2-799178ac3b26"
      },
      "execution_count": 34,
      "outputs": [
        {
          "output_type": "stream",
          "name": "stdout",
          "text": [
            "\n",
            "WARNING ⚠️ \n",
            "inference results will accumulate in RAM unless `stream=True` is passed, causing potential out-of-memory\n",
            "errors for large sources or long-running streams and videos. See https://docs.ultralytics.com/modes/predict/ for help.\n",
            "\n",
            "Example:\n",
            "    results = model(source=..., stream=True)  # generator of Results objects\n",
            "    for r in results:\n",
            "        boxes = r.boxes  # Boxes object for bbox outputs\n",
            "        masks = r.masks  # Masks object for segment masks outputs\n",
            "        probs = r.probs  # Class probabilities for classification outputs\n",
            "\n",
            "video 1/1 (frame 1/315) /content/stock-footage-multi-ethnic-passengers-in-tram-wearing-protective-face-masks-diverse-people-travel-on-public.webm: 384x640 7 with_masks, 67.2ms\n",
            "video 1/1 (frame 2/315) /content/stock-footage-multi-ethnic-passengers-in-tram-wearing-protective-face-masks-diverse-people-travel-on-public.webm: 384x640 7 with_masks, 13.7ms\n",
            "video 1/1 (frame 3/315) /content/stock-footage-multi-ethnic-passengers-in-tram-wearing-protective-face-masks-diverse-people-travel-on-public.webm: 384x640 7 with_masks, 12.8ms\n",
            "video 1/1 (frame 4/315) /content/stock-footage-multi-ethnic-passengers-in-tram-wearing-protective-face-masks-diverse-people-travel-on-public.webm: 384x640 7 with_masks, 16.1ms\n",
            "video 1/1 (frame 5/315) /content/stock-footage-multi-ethnic-passengers-in-tram-wearing-protective-face-masks-diverse-people-travel-on-public.webm: 384x640 7 with_masks, 14.5ms\n",
            "video 1/1 (frame 6/315) /content/stock-footage-multi-ethnic-passengers-in-tram-wearing-protective-face-masks-diverse-people-travel-on-public.webm: 384x640 7 with_masks, 11.1ms\n",
            "video 1/1 (frame 7/315) /content/stock-footage-multi-ethnic-passengers-in-tram-wearing-protective-face-masks-diverse-people-travel-on-public.webm: 384x640 7 with_masks, 10.8ms\n",
            "video 1/1 (frame 8/315) /content/stock-footage-multi-ethnic-passengers-in-tram-wearing-protective-face-masks-diverse-people-travel-on-public.webm: 384x640 7 with_masks, 12.4ms\n",
            "video 1/1 (frame 9/315) /content/stock-footage-multi-ethnic-passengers-in-tram-wearing-protective-face-masks-diverse-people-travel-on-public.webm: 384x640 7 with_masks, 11.0ms\n",
            "video 1/1 (frame 10/315) /content/stock-footage-multi-ethnic-passengers-in-tram-wearing-protective-face-masks-diverse-people-travel-on-public.webm: 384x640 7 with_masks, 19.1ms\n",
            "video 1/1 (frame 11/315) /content/stock-footage-multi-ethnic-passengers-in-tram-wearing-protective-face-masks-diverse-people-travel-on-public.webm: 384x640 7 with_masks, 16.7ms\n",
            "video 1/1 (frame 12/315) /content/stock-footage-multi-ethnic-passengers-in-tram-wearing-protective-face-masks-diverse-people-travel-on-public.webm: 384x640 7 with_masks, 13.4ms\n",
            "video 1/1 (frame 13/315) /content/stock-footage-multi-ethnic-passengers-in-tram-wearing-protective-face-masks-diverse-people-travel-on-public.webm: 384x640 7 with_masks, 10.7ms\n",
            "video 1/1 (frame 14/315) /content/stock-footage-multi-ethnic-passengers-in-tram-wearing-protective-face-masks-diverse-people-travel-on-public.webm: 384x640 7 with_masks, 11.0ms\n",
            "video 1/1 (frame 15/315) /content/stock-footage-multi-ethnic-passengers-in-tram-wearing-protective-face-masks-diverse-people-travel-on-public.webm: 384x640 7 with_masks, 10.6ms\n",
            "video 1/1 (frame 16/315) /content/stock-footage-multi-ethnic-passengers-in-tram-wearing-protective-face-masks-diverse-people-travel-on-public.webm: 384x640 6 with_masks, 10.9ms\n",
            "video 1/1 (frame 17/315) /content/stock-footage-multi-ethnic-passengers-in-tram-wearing-protective-face-masks-diverse-people-travel-on-public.webm: 384x640 6 with_masks, 15.5ms\n",
            "video 1/1 (frame 18/315) /content/stock-footage-multi-ethnic-passengers-in-tram-wearing-protective-face-masks-diverse-people-travel-on-public.webm: 384x640 6 with_masks, 12.3ms\n",
            "video 1/1 (frame 19/315) /content/stock-footage-multi-ethnic-passengers-in-tram-wearing-protective-face-masks-diverse-people-travel-on-public.webm: 384x640 6 with_masks, 18.0ms\n",
            "video 1/1 (frame 20/315) /content/stock-footage-multi-ethnic-passengers-in-tram-wearing-protective-face-masks-diverse-people-travel-on-public.webm: 384x640 6 with_masks, 22.4ms\n",
            "video 1/1 (frame 21/315) /content/stock-footage-multi-ethnic-passengers-in-tram-wearing-protective-face-masks-diverse-people-travel-on-public.webm: 384x640 6 with_masks, 16.4ms\n",
            "video 1/1 (frame 22/315) /content/stock-footage-multi-ethnic-passengers-in-tram-wearing-protective-face-masks-diverse-people-travel-on-public.webm: 384x640 7 with_masks, 13.0ms\n",
            "video 1/1 (frame 23/315) /content/stock-footage-multi-ethnic-passengers-in-tram-wearing-protective-face-masks-diverse-people-travel-on-public.webm: 384x640 7 with_masks, 15.9ms\n",
            "video 1/1 (frame 24/315) /content/stock-footage-multi-ethnic-passengers-in-tram-wearing-protective-face-masks-diverse-people-travel-on-public.webm: 384x640 7 with_masks, 14.5ms\n",
            "video 1/1 (frame 25/315) /content/stock-footage-multi-ethnic-passengers-in-tram-wearing-protective-face-masks-diverse-people-travel-on-public.webm: 384x640 6 with_masks, 16.9ms\n",
            "video 1/1 (frame 26/315) /content/stock-footage-multi-ethnic-passengers-in-tram-wearing-protective-face-masks-diverse-people-travel-on-public.webm: 384x640 6 with_masks, 11.6ms\n",
            "video 1/1 (frame 27/315) /content/stock-footage-multi-ethnic-passengers-in-tram-wearing-protective-face-masks-diverse-people-travel-on-public.webm: 384x640 7 with_masks, 11.4ms\n",
            "video 1/1 (frame 28/315) /content/stock-footage-multi-ethnic-passengers-in-tram-wearing-protective-face-masks-diverse-people-travel-on-public.webm: 384x640 7 with_masks, 12.0ms\n",
            "video 1/1 (frame 29/315) /content/stock-footage-multi-ethnic-passengers-in-tram-wearing-protective-face-masks-diverse-people-travel-on-public.webm: 384x640 7 with_masks, 11.0ms\n",
            "video 1/1 (frame 30/315) /content/stock-footage-multi-ethnic-passengers-in-tram-wearing-protective-face-masks-diverse-people-travel-on-public.webm: 384x640 8 with_masks, 11.3ms\n",
            "video 1/1 (frame 31/315) /content/stock-footage-multi-ethnic-passengers-in-tram-wearing-protective-face-masks-diverse-people-travel-on-public.webm: 384x640 7 with_masks, 15.6ms\n",
            "video 1/1 (frame 32/315) /content/stock-footage-multi-ethnic-passengers-in-tram-wearing-protective-face-masks-diverse-people-travel-on-public.webm: 384x640 6 with_masks, 11.7ms\n",
            "video 1/1 (frame 33/315) /content/stock-footage-multi-ethnic-passengers-in-tram-wearing-protective-face-masks-diverse-people-travel-on-public.webm: 384x640 7 with_masks, 11.9ms\n",
            "video 1/1 (frame 34/315) /content/stock-footage-multi-ethnic-passengers-in-tram-wearing-protective-face-masks-diverse-people-travel-on-public.webm: 384x640 7 with_masks, 11.4ms\n",
            "video 1/1 (frame 35/315) /content/stock-footage-multi-ethnic-passengers-in-tram-wearing-protective-face-masks-diverse-people-travel-on-public.webm: 384x640 8 with_masks, 11.8ms\n",
            "video 1/1 (frame 36/315) /content/stock-footage-multi-ethnic-passengers-in-tram-wearing-protective-face-masks-diverse-people-travel-on-public.webm: 384x640 8 with_masks, 11.2ms\n",
            "video 1/1 (frame 37/315) /content/stock-footage-multi-ethnic-passengers-in-tram-wearing-protective-face-masks-diverse-people-travel-on-public.webm: 384x640 9 with_masks, 11.2ms\n",
            "video 1/1 (frame 38/315) /content/stock-footage-multi-ethnic-passengers-in-tram-wearing-protective-face-masks-diverse-people-travel-on-public.webm: 384x640 7 with_masks, 11.7ms\n",
            "video 1/1 (frame 39/315) /content/stock-footage-multi-ethnic-passengers-in-tram-wearing-protective-face-masks-diverse-people-travel-on-public.webm: 384x640 8 with_masks, 11.2ms\n",
            "video 1/1 (frame 40/315) /content/stock-footage-multi-ethnic-passengers-in-tram-wearing-protective-face-masks-diverse-people-travel-on-public.webm: 384x640 7 with_masks, 11.3ms\n",
            "video 1/1 (frame 41/315) /content/stock-footage-multi-ethnic-passengers-in-tram-wearing-protective-face-masks-diverse-people-travel-on-public.webm: 384x640 8 with_masks, 11.2ms\n",
            "video 1/1 (frame 42/315) /content/stock-footage-multi-ethnic-passengers-in-tram-wearing-protective-face-masks-diverse-people-travel-on-public.webm: 384x640 7 with_masks, 11.3ms\n",
            "video 1/1 (frame 43/315) /content/stock-footage-multi-ethnic-passengers-in-tram-wearing-protective-face-masks-diverse-people-travel-on-public.webm: 384x640 7 with_masks, 11.3ms\n",
            "video 1/1 (frame 44/315) /content/stock-footage-multi-ethnic-passengers-in-tram-wearing-protective-face-masks-diverse-people-travel-on-public.webm: 384x640 8 with_masks, 11.4ms\n",
            "video 1/1 (frame 45/315) /content/stock-footage-multi-ethnic-passengers-in-tram-wearing-protective-face-masks-diverse-people-travel-on-public.webm: 384x640 8 with_masks, 11.3ms\n",
            "video 1/1 (frame 46/315) /content/stock-footage-multi-ethnic-passengers-in-tram-wearing-protective-face-masks-diverse-people-travel-on-public.webm: 384x640 8 with_masks, 11.2ms\n",
            "video 1/1 (frame 47/315) /content/stock-footage-multi-ethnic-passengers-in-tram-wearing-protective-face-masks-diverse-people-travel-on-public.webm: 384x640 7 with_masks, 11.1ms\n",
            "video 1/1 (frame 48/315) /content/stock-footage-multi-ethnic-passengers-in-tram-wearing-protective-face-masks-diverse-people-travel-on-public.webm: 384x640 8 with_masks, 11.4ms\n",
            "video 1/1 (frame 49/315) /content/stock-footage-multi-ethnic-passengers-in-tram-wearing-protective-face-masks-diverse-people-travel-on-public.webm: 384x640 7 with_masks, 18.7ms\n",
            "video 1/1 (frame 50/315) /content/stock-footage-multi-ethnic-passengers-in-tram-wearing-protective-face-masks-diverse-people-travel-on-public.webm: 384x640 7 with_masks, 12.9ms\n",
            "video 1/1 (frame 51/315) /content/stock-footage-multi-ethnic-passengers-in-tram-wearing-protective-face-masks-diverse-people-travel-on-public.webm: 384x640 8 with_masks, 12.7ms\n",
            "video 1/1 (frame 52/315) /content/stock-footage-multi-ethnic-passengers-in-tram-wearing-protective-face-masks-diverse-people-travel-on-public.webm: 384x640 8 with_masks, 10.7ms\n",
            "video 1/1 (frame 53/315) /content/stock-footage-multi-ethnic-passengers-in-tram-wearing-protective-face-masks-diverse-people-travel-on-public.webm: 384x640 8 with_masks, 10.7ms\n",
            "video 1/1 (frame 54/315) /content/stock-footage-multi-ethnic-passengers-in-tram-wearing-protective-face-masks-diverse-people-travel-on-public.webm: 384x640 7 with_masks, 10.7ms\n",
            "video 1/1 (frame 55/315) /content/stock-footage-multi-ethnic-passengers-in-tram-wearing-protective-face-masks-diverse-people-travel-on-public.webm: 384x640 8 with_masks, 10.6ms\n",
            "video 1/1 (frame 56/315) /content/stock-footage-multi-ethnic-passengers-in-tram-wearing-protective-face-masks-diverse-people-travel-on-public.webm: 384x640 7 with_masks, 11.2ms\n",
            "video 1/1 (frame 57/315) /content/stock-footage-multi-ethnic-passengers-in-tram-wearing-protective-face-masks-diverse-people-travel-on-public.webm: 384x640 7 with_masks, 10.7ms\n",
            "video 1/1 (frame 58/315) /content/stock-footage-multi-ethnic-passengers-in-tram-wearing-protective-face-masks-diverse-people-travel-on-public.webm: 384x640 7 with_masks, 12.1ms\n",
            "video 1/1 (frame 59/315) /content/stock-footage-multi-ethnic-passengers-in-tram-wearing-protective-face-masks-diverse-people-travel-on-public.webm: 384x640 7 with_masks, 10.5ms\n",
            "video 1/1 (frame 60/315) /content/stock-footage-multi-ethnic-passengers-in-tram-wearing-protective-face-masks-diverse-people-travel-on-public.webm: 384x640 7 with_masks, 10.5ms\n",
            "video 1/1 (frame 61/315) /content/stock-footage-multi-ethnic-passengers-in-tram-wearing-protective-face-masks-diverse-people-travel-on-public.webm: 384x640 7 with_masks, 10.6ms\n",
            "video 1/1 (frame 62/315) /content/stock-footage-multi-ethnic-passengers-in-tram-wearing-protective-face-masks-diverse-people-travel-on-public.webm: 384x640 7 with_masks, 10.6ms\n",
            "video 1/1 (frame 63/315) /content/stock-footage-multi-ethnic-passengers-in-tram-wearing-protective-face-masks-diverse-people-travel-on-public.webm: 384x640 7 with_masks, 10.4ms\n",
            "video 1/1 (frame 64/315) /content/stock-footage-multi-ethnic-passengers-in-tram-wearing-protective-face-masks-diverse-people-travel-on-public.webm: 384x640 7 with_masks, 11.2ms\n",
            "video 1/1 (frame 65/315) /content/stock-footage-multi-ethnic-passengers-in-tram-wearing-protective-face-masks-diverse-people-travel-on-public.webm: 384x640 7 with_masks, 10.8ms\n",
            "video 1/1 (frame 66/315) /content/stock-footage-multi-ethnic-passengers-in-tram-wearing-protective-face-masks-diverse-people-travel-on-public.webm: 384x640 7 with_masks, 10.9ms\n",
            "video 1/1 (frame 67/315) /content/stock-footage-multi-ethnic-passengers-in-tram-wearing-protective-face-masks-diverse-people-travel-on-public.webm: 384x640 7 with_masks, 11.1ms\n",
            "video 1/1 (frame 68/315) /content/stock-footage-multi-ethnic-passengers-in-tram-wearing-protective-face-masks-diverse-people-travel-on-public.webm: 384x640 7 with_masks, 12.0ms\n",
            "video 1/1 (frame 69/315) /content/stock-footage-multi-ethnic-passengers-in-tram-wearing-protective-face-masks-diverse-people-travel-on-public.webm: 384x640 7 with_masks, 12.1ms\n",
            "video 1/1 (frame 70/315) /content/stock-footage-multi-ethnic-passengers-in-tram-wearing-protective-face-masks-diverse-people-travel-on-public.webm: 384x640 7 with_masks, 11.2ms\n",
            "video 1/1 (frame 71/315) /content/stock-footage-multi-ethnic-passengers-in-tram-wearing-protective-face-masks-diverse-people-travel-on-public.webm: 384x640 7 with_masks, 11.6ms\n",
            "video 1/1 (frame 72/315) /content/stock-footage-multi-ethnic-passengers-in-tram-wearing-protective-face-masks-diverse-people-travel-on-public.webm: 384x640 7 with_masks, 16.7ms\n",
            "video 1/1 (frame 73/315) /content/stock-footage-multi-ethnic-passengers-in-tram-wearing-protective-face-masks-diverse-people-travel-on-public.webm: 384x640 7 with_masks, 16.6ms\n",
            "video 1/1 (frame 74/315) /content/stock-footage-multi-ethnic-passengers-in-tram-wearing-protective-face-masks-diverse-people-travel-on-public.webm: 384x640 7 with_masks, 17.0ms\n",
            "video 1/1 (frame 75/315) /content/stock-footage-multi-ethnic-passengers-in-tram-wearing-protective-face-masks-diverse-people-travel-on-public.webm: 384x640 7 with_masks, 17.2ms\n",
            "video 1/1 (frame 76/315) /content/stock-footage-multi-ethnic-passengers-in-tram-wearing-protective-face-masks-diverse-people-travel-on-public.webm: 384x640 7 with_masks, 13.4ms\n",
            "video 1/1 (frame 77/315) /content/stock-footage-multi-ethnic-passengers-in-tram-wearing-protective-face-masks-diverse-people-travel-on-public.webm: 384x640 7 with_masks, 16.7ms\n",
            "video 1/1 (frame 78/315) /content/stock-footage-multi-ethnic-passengers-in-tram-wearing-protective-face-masks-diverse-people-travel-on-public.webm: 384x640 7 with_masks, 16.7ms\n",
            "video 1/1 (frame 79/315) /content/stock-footage-multi-ethnic-passengers-in-tram-wearing-protective-face-masks-diverse-people-travel-on-public.webm: 384x640 7 with_masks, 15.1ms\n",
            "video 1/1 (frame 80/315) /content/stock-footage-multi-ethnic-passengers-in-tram-wearing-protective-face-masks-diverse-people-travel-on-public.webm: 384x640 7 with_masks, 11.4ms\n",
            "video 1/1 (frame 81/315) /content/stock-footage-multi-ethnic-passengers-in-tram-wearing-protective-face-masks-diverse-people-travel-on-public.webm: 384x640 7 with_masks, 16.3ms\n",
            "video 1/1 (frame 82/315) /content/stock-footage-multi-ethnic-passengers-in-tram-wearing-protective-face-masks-diverse-people-travel-on-public.webm: 384x640 7 with_masks, 12.0ms\n",
            "video 1/1 (frame 83/315) /content/stock-footage-multi-ethnic-passengers-in-tram-wearing-protective-face-masks-diverse-people-travel-on-public.webm: 384x640 7 with_masks, 11.1ms\n",
            "video 1/1 (frame 84/315) /content/stock-footage-multi-ethnic-passengers-in-tram-wearing-protective-face-masks-diverse-people-travel-on-public.webm: 384x640 7 with_masks, 18.3ms\n",
            "video 1/1 (frame 85/315) /content/stock-footage-multi-ethnic-passengers-in-tram-wearing-protective-face-masks-diverse-people-travel-on-public.webm: 384x640 7 with_masks, 18.0ms\n",
            "video 1/1 (frame 86/315) /content/stock-footage-multi-ethnic-passengers-in-tram-wearing-protective-face-masks-diverse-people-travel-on-public.webm: 384x640 7 with_masks, 17.7ms\n",
            "video 1/1 (frame 87/315) /content/stock-footage-multi-ethnic-passengers-in-tram-wearing-protective-face-masks-diverse-people-travel-on-public.webm: 384x640 7 with_masks, 15.4ms\n",
            "video 1/1 (frame 88/315) /content/stock-footage-multi-ethnic-passengers-in-tram-wearing-protective-face-masks-diverse-people-travel-on-public.webm: 384x640 7 with_masks, 16.0ms\n",
            "video 1/1 (frame 89/315) /content/stock-footage-multi-ethnic-passengers-in-tram-wearing-protective-face-masks-diverse-people-travel-on-public.webm: 384x640 7 with_masks, 19.9ms\n",
            "video 1/1 (frame 90/315) /content/stock-footage-multi-ethnic-passengers-in-tram-wearing-protective-face-masks-diverse-people-travel-on-public.webm: 384x640 7 with_masks, 16.1ms\n",
            "video 1/1 (frame 91/315) /content/stock-footage-multi-ethnic-passengers-in-tram-wearing-protective-face-masks-diverse-people-travel-on-public.webm: 384x640 7 with_masks, 17.6ms\n",
            "video 1/1 (frame 92/315) /content/stock-footage-multi-ethnic-passengers-in-tram-wearing-protective-face-masks-diverse-people-travel-on-public.webm: 384x640 7 with_masks, 15.7ms\n",
            "video 1/1 (frame 93/315) /content/stock-footage-multi-ethnic-passengers-in-tram-wearing-protective-face-masks-diverse-people-travel-on-public.webm: 384x640 7 with_masks, 17.3ms\n",
            "video 1/1 (frame 94/315) /content/stock-footage-multi-ethnic-passengers-in-tram-wearing-protective-face-masks-diverse-people-travel-on-public.webm: 384x640 7 with_masks, 17.1ms\n",
            "video 1/1 (frame 95/315) /content/stock-footage-multi-ethnic-passengers-in-tram-wearing-protective-face-masks-diverse-people-travel-on-public.webm: 384x640 7 with_masks, 15.9ms\n",
            "video 1/1 (frame 96/315) /content/stock-footage-multi-ethnic-passengers-in-tram-wearing-protective-face-masks-diverse-people-travel-on-public.webm: 384x640 7 with_masks, 15.8ms\n",
            "video 1/1 (frame 97/315) /content/stock-footage-multi-ethnic-passengers-in-tram-wearing-protective-face-masks-diverse-people-travel-on-public.webm: 384x640 7 with_masks, 16.1ms\n",
            "video 1/1 (frame 98/315) /content/stock-footage-multi-ethnic-passengers-in-tram-wearing-protective-face-masks-diverse-people-travel-on-public.webm: 384x640 7 with_masks, 15.5ms\n",
            "video 1/1 (frame 99/315) /content/stock-footage-multi-ethnic-passengers-in-tram-wearing-protective-face-masks-diverse-people-travel-on-public.webm: 384x640 7 with_masks, 15.5ms\n",
            "video 1/1 (frame 100/315) /content/stock-footage-multi-ethnic-passengers-in-tram-wearing-protective-face-masks-diverse-people-travel-on-public.webm: 384x640 7 with_masks, 15.8ms\n",
            "video 1/1 (frame 101/315) /content/stock-footage-multi-ethnic-passengers-in-tram-wearing-protective-face-masks-diverse-people-travel-on-public.webm: 384x640 7 with_masks, 16.3ms\n",
            "video 1/1 (frame 102/315) /content/stock-footage-multi-ethnic-passengers-in-tram-wearing-protective-face-masks-diverse-people-travel-on-public.webm: 384x640 7 with_masks, 17.2ms\n",
            "video 1/1 (frame 103/315) /content/stock-footage-multi-ethnic-passengers-in-tram-wearing-protective-face-masks-diverse-people-travel-on-public.webm: 384x640 6 with_masks, 13.8ms\n",
            "video 1/1 (frame 104/315) /content/stock-footage-multi-ethnic-passengers-in-tram-wearing-protective-face-masks-diverse-people-travel-on-public.webm: 384x640 6 with_masks, 8.7ms\n",
            "video 1/1 (frame 105/315) /content/stock-footage-multi-ethnic-passengers-in-tram-wearing-protective-face-masks-diverse-people-travel-on-public.webm: 384x640 6 with_masks, 8.7ms\n",
            "video 1/1 (frame 106/315) /content/stock-footage-multi-ethnic-passengers-in-tram-wearing-protective-face-masks-diverse-people-travel-on-public.webm: 384x640 7 with_masks, 9.1ms\n",
            "video 1/1 (frame 107/315) /content/stock-footage-multi-ethnic-passengers-in-tram-wearing-protective-face-masks-diverse-people-travel-on-public.webm: 384x640 7 with_masks, 8.9ms\n",
            "video 1/1 (frame 108/315) /content/stock-footage-multi-ethnic-passengers-in-tram-wearing-protective-face-masks-diverse-people-travel-on-public.webm: 384x640 7 with_masks, 9.1ms\n",
            "video 1/1 (frame 109/315) /content/stock-footage-multi-ethnic-passengers-in-tram-wearing-protective-face-masks-diverse-people-travel-on-public.webm: 384x640 7 with_masks, 9.3ms\n",
            "video 1/1 (frame 110/315) /content/stock-footage-multi-ethnic-passengers-in-tram-wearing-protective-face-masks-diverse-people-travel-on-public.webm: 384x640 7 with_masks, 8.7ms\n",
            "video 1/1 (frame 111/315) /content/stock-footage-multi-ethnic-passengers-in-tram-wearing-protective-face-masks-diverse-people-travel-on-public.webm: 384x640 6 with_masks, 9.0ms\n",
            "video 1/1 (frame 112/315) /content/stock-footage-multi-ethnic-passengers-in-tram-wearing-protective-face-masks-diverse-people-travel-on-public.webm: 384x640 6 with_masks, 9.2ms\n",
            "video 1/1 (frame 113/315) /content/stock-footage-multi-ethnic-passengers-in-tram-wearing-protective-face-masks-diverse-people-travel-on-public.webm: 384x640 6 with_masks, 9.2ms\n",
            "video 1/1 (frame 114/315) /content/stock-footage-multi-ethnic-passengers-in-tram-wearing-protective-face-masks-diverse-people-travel-on-public.webm: 384x640 6 with_masks, 8.8ms\n",
            "video 1/1 (frame 115/315) /content/stock-footage-multi-ethnic-passengers-in-tram-wearing-protective-face-masks-diverse-people-travel-on-public.webm: 384x640 6 with_masks, 10.6ms\n",
            "video 1/1 (frame 116/315) /content/stock-footage-multi-ethnic-passengers-in-tram-wearing-protective-face-masks-diverse-people-travel-on-public.webm: 384x640 6 with_masks, 9.6ms\n",
            "video 1/1 (frame 117/315) /content/stock-footage-multi-ethnic-passengers-in-tram-wearing-protective-face-masks-diverse-people-travel-on-public.webm: 384x640 6 with_masks, 8.9ms\n",
            "video 1/1 (frame 118/315) /content/stock-footage-multi-ethnic-passengers-in-tram-wearing-protective-face-masks-diverse-people-travel-on-public.webm: 384x640 6 with_masks, 8.8ms\n",
            "video 1/1 (frame 119/315) /content/stock-footage-multi-ethnic-passengers-in-tram-wearing-protective-face-masks-diverse-people-travel-on-public.webm: 384x640 7 with_masks, 8.7ms\n",
            "video 1/1 (frame 120/315) /content/stock-footage-multi-ethnic-passengers-in-tram-wearing-protective-face-masks-diverse-people-travel-on-public.webm: 384x640 6 with_masks, 11.3ms\n",
            "video 1/1 (frame 121/315) /content/stock-footage-multi-ethnic-passengers-in-tram-wearing-protective-face-masks-diverse-people-travel-on-public.webm: 384x640 6 with_masks, 9.1ms\n",
            "video 1/1 (frame 122/315) /content/stock-footage-multi-ethnic-passengers-in-tram-wearing-protective-face-masks-diverse-people-travel-on-public.webm: 384x640 6 with_masks, 8.9ms\n",
            "video 1/1 (frame 123/315) /content/stock-footage-multi-ethnic-passengers-in-tram-wearing-protective-face-masks-diverse-people-travel-on-public.webm: 384x640 6 with_masks, 8.8ms\n",
            "video 1/1 (frame 124/315) /content/stock-footage-multi-ethnic-passengers-in-tram-wearing-protective-face-masks-diverse-people-travel-on-public.webm: 384x640 6 with_masks, 8.9ms\n",
            "video 1/1 (frame 125/315) /content/stock-footage-multi-ethnic-passengers-in-tram-wearing-protective-face-masks-diverse-people-travel-on-public.webm: 384x640 5 with_masks, 9.9ms\n",
            "video 1/1 (frame 126/315) /content/stock-footage-multi-ethnic-passengers-in-tram-wearing-protective-face-masks-diverse-people-travel-on-public.webm: 384x640 5 with_masks, 8.8ms\n",
            "video 1/1 (frame 127/315) /content/stock-footage-multi-ethnic-passengers-in-tram-wearing-protective-face-masks-diverse-people-travel-on-public.webm: 384x640 5 with_masks, 9.0ms\n",
            "video 1/1 (frame 128/315) /content/stock-footage-multi-ethnic-passengers-in-tram-wearing-protective-face-masks-diverse-people-travel-on-public.webm: 384x640 6 with_masks, 8.8ms\n",
            "video 1/1 (frame 129/315) /content/stock-footage-multi-ethnic-passengers-in-tram-wearing-protective-face-masks-diverse-people-travel-on-public.webm: 384x640 6 with_masks, 13.0ms\n",
            "video 1/1 (frame 130/315) /content/stock-footage-multi-ethnic-passengers-in-tram-wearing-protective-face-masks-diverse-people-travel-on-public.webm: 384x640 5 with_masks, 8.9ms\n",
            "video 1/1 (frame 131/315) /content/stock-footage-multi-ethnic-passengers-in-tram-wearing-protective-face-masks-diverse-people-travel-on-public.webm: 384x640 5 with_masks, 8.9ms\n",
            "video 1/1 (frame 132/315) /content/stock-footage-multi-ethnic-passengers-in-tram-wearing-protective-face-masks-diverse-people-travel-on-public.webm: 384x640 5 with_masks, 9.1ms\n",
            "video 1/1 (frame 133/315) /content/stock-footage-multi-ethnic-passengers-in-tram-wearing-protective-face-masks-diverse-people-travel-on-public.webm: 384x640 6 with_masks, 15.6ms\n",
            "video 1/1 (frame 134/315) /content/stock-footage-multi-ethnic-passengers-in-tram-wearing-protective-face-masks-diverse-people-travel-on-public.webm: 384x640 6 with_masks, 12.0ms\n",
            "video 1/1 (frame 135/315) /content/stock-footage-multi-ethnic-passengers-in-tram-wearing-protective-face-masks-diverse-people-travel-on-public.webm: 384x640 6 with_masks, 9.0ms\n",
            "video 1/1 (frame 136/315) /content/stock-footage-multi-ethnic-passengers-in-tram-wearing-protective-face-masks-diverse-people-travel-on-public.webm: 384x640 6 with_masks, 8.9ms\n",
            "video 1/1 (frame 137/315) /content/stock-footage-multi-ethnic-passengers-in-tram-wearing-protective-face-masks-diverse-people-travel-on-public.webm: 384x640 6 with_masks, 11.2ms\n",
            "video 1/1 (frame 138/315) /content/stock-footage-multi-ethnic-passengers-in-tram-wearing-protective-face-masks-diverse-people-travel-on-public.webm: 384x640 6 with_masks, 8.9ms\n",
            "video 1/1 (frame 139/315) /content/stock-footage-multi-ethnic-passengers-in-tram-wearing-protective-face-masks-diverse-people-travel-on-public.webm: 384x640 6 with_masks, 10.3ms\n",
            "video 1/1 (frame 140/315) /content/stock-footage-multi-ethnic-passengers-in-tram-wearing-protective-face-masks-diverse-people-travel-on-public.webm: 384x640 5 with_masks, 9.0ms\n",
            "video 1/1 (frame 141/315) /content/stock-footage-multi-ethnic-passengers-in-tram-wearing-protective-face-masks-diverse-people-travel-on-public.webm: 384x640 6 with_masks, 10.1ms\n",
            "video 1/1 (frame 142/315) /content/stock-footage-multi-ethnic-passengers-in-tram-wearing-protective-face-masks-diverse-people-travel-on-public.webm: 384x640 6 with_masks, 9.8ms\n",
            "video 1/1 (frame 143/315) /content/stock-footage-multi-ethnic-passengers-in-tram-wearing-protective-face-masks-diverse-people-travel-on-public.webm: 384x640 6 with_masks, 8.7ms\n",
            "video 1/1 (frame 144/315) /content/stock-footage-multi-ethnic-passengers-in-tram-wearing-protective-face-masks-diverse-people-travel-on-public.webm: 384x640 6 with_masks, 8.9ms\n",
            "video 1/1 (frame 145/315) /content/stock-footage-multi-ethnic-passengers-in-tram-wearing-protective-face-masks-diverse-people-travel-on-public.webm: 384x640 6 with_masks, 8.8ms\n",
            "video 1/1 (frame 146/315) /content/stock-footage-multi-ethnic-passengers-in-tram-wearing-protective-face-masks-diverse-people-travel-on-public.webm: 384x640 7 with_masks, 9.6ms\n",
            "video 1/1 (frame 147/315) /content/stock-footage-multi-ethnic-passengers-in-tram-wearing-protective-face-masks-diverse-people-travel-on-public.webm: 384x640 7 with_masks, 9.1ms\n",
            "video 1/1 (frame 148/315) /content/stock-footage-multi-ethnic-passengers-in-tram-wearing-protective-face-masks-diverse-people-travel-on-public.webm: 384x640 7 with_masks, 12.0ms\n",
            "video 1/1 (frame 149/315) /content/stock-footage-multi-ethnic-passengers-in-tram-wearing-protective-face-masks-diverse-people-travel-on-public.webm: 384x640 7 with_masks, 9.2ms\n",
            "video 1/1 (frame 150/315) /content/stock-footage-multi-ethnic-passengers-in-tram-wearing-protective-face-masks-diverse-people-travel-on-public.webm: 384x640 7 with_masks, 9.6ms\n",
            "video 1/1 (frame 151/315) /content/stock-footage-multi-ethnic-passengers-in-tram-wearing-protective-face-masks-diverse-people-travel-on-public.webm: 384x640 7 with_masks, 9.1ms\n",
            "video 1/1 (frame 152/315) /content/stock-footage-multi-ethnic-passengers-in-tram-wearing-protective-face-masks-diverse-people-travel-on-public.webm: 384x640 7 with_masks, 9.3ms\n",
            "video 1/1 (frame 153/315) /content/stock-footage-multi-ethnic-passengers-in-tram-wearing-protective-face-masks-diverse-people-travel-on-public.webm: 384x640 7 with_masks, 8.5ms\n",
            "video 1/1 (frame 154/315) /content/stock-footage-multi-ethnic-passengers-in-tram-wearing-protective-face-masks-diverse-people-travel-on-public.webm: 384x640 6 with_masks, 9.3ms\n",
            "video 1/1 (frame 155/315) /content/stock-footage-multi-ethnic-passengers-in-tram-wearing-protective-face-masks-diverse-people-travel-on-public.webm: 384x640 7 with_masks, 10.1ms\n",
            "video 1/1 (frame 156/315) /content/stock-footage-multi-ethnic-passengers-in-tram-wearing-protective-face-masks-diverse-people-travel-on-public.webm: 384x640 6 with_masks, 8.4ms\n",
            "video 1/1 (frame 157/315) /content/stock-footage-multi-ethnic-passengers-in-tram-wearing-protective-face-masks-diverse-people-travel-on-public.webm: 384x640 7 with_masks, 9.0ms\n",
            "video 1/1 (frame 158/315) /content/stock-footage-multi-ethnic-passengers-in-tram-wearing-protective-face-masks-diverse-people-travel-on-public.webm: 384x640 7 with_masks, 8.6ms\n",
            "video 1/1 (frame 159/315) /content/stock-footage-multi-ethnic-passengers-in-tram-wearing-protective-face-masks-diverse-people-travel-on-public.webm: 384x640 7 with_masks, 8.3ms\n",
            "video 1/1 (frame 160/315) /content/stock-footage-multi-ethnic-passengers-in-tram-wearing-protective-face-masks-diverse-people-travel-on-public.webm: 384x640 6 with_masks, 10.9ms\n",
            "video 1/1 (frame 161/315) /content/stock-footage-multi-ethnic-passengers-in-tram-wearing-protective-face-masks-diverse-people-travel-on-public.webm: 384x640 7 with_masks, 8.5ms\n",
            "video 1/1 (frame 162/315) /content/stock-footage-multi-ethnic-passengers-in-tram-wearing-protective-face-masks-diverse-people-travel-on-public.webm: 384x640 6 with_masks, 8.6ms\n",
            "video 1/1 (frame 163/315) /content/stock-footage-multi-ethnic-passengers-in-tram-wearing-protective-face-masks-diverse-people-travel-on-public.webm: 384x640 6 with_masks, 8.4ms\n",
            "video 1/1 (frame 164/315) /content/stock-footage-multi-ethnic-passengers-in-tram-wearing-protective-face-masks-diverse-people-travel-on-public.webm: 384x640 6 with_masks, 8.5ms\n",
            "video 1/1 (frame 165/315) /content/stock-footage-multi-ethnic-passengers-in-tram-wearing-protective-face-masks-diverse-people-travel-on-public.webm: 384x640 6 with_masks, 9.3ms\n",
            "video 1/1 (frame 166/315) /content/stock-footage-multi-ethnic-passengers-in-tram-wearing-protective-face-masks-diverse-people-travel-on-public.webm: 384x640 6 with_masks, 10.4ms\n",
            "video 1/1 (frame 167/315) /content/stock-footage-multi-ethnic-passengers-in-tram-wearing-protective-face-masks-diverse-people-travel-on-public.webm: 384x640 6 with_masks, 8.5ms\n",
            "video 1/1 (frame 168/315) /content/stock-footage-multi-ethnic-passengers-in-tram-wearing-protective-face-masks-diverse-people-travel-on-public.webm: 384x640 6 with_masks, 8.5ms\n",
            "video 1/1 (frame 169/315) /content/stock-footage-multi-ethnic-passengers-in-tram-wearing-protective-face-masks-diverse-people-travel-on-public.webm: 384x640 6 with_masks, 9.8ms\n",
            "video 1/1 (frame 170/315) /content/stock-footage-multi-ethnic-passengers-in-tram-wearing-protective-face-masks-diverse-people-travel-on-public.webm: 384x640 6 with_masks, 8.6ms\n",
            "video 1/1 (frame 171/315) /content/stock-footage-multi-ethnic-passengers-in-tram-wearing-protective-face-masks-diverse-people-travel-on-public.webm: 384x640 6 with_masks, 9.7ms\n",
            "video 1/1 (frame 172/315) /content/stock-footage-multi-ethnic-passengers-in-tram-wearing-protective-face-masks-diverse-people-travel-on-public.webm: 384x640 6 with_masks, 10.8ms\n",
            "video 1/1 (frame 173/315) /content/stock-footage-multi-ethnic-passengers-in-tram-wearing-protective-face-masks-diverse-people-travel-on-public.webm: 384x640 6 with_masks, 8.5ms\n",
            "video 1/1 (frame 174/315) /content/stock-footage-multi-ethnic-passengers-in-tram-wearing-protective-face-masks-diverse-people-travel-on-public.webm: 384x640 6 with_masks, 8.5ms\n",
            "video 1/1 (frame 175/315) /content/stock-footage-multi-ethnic-passengers-in-tram-wearing-protective-face-masks-diverse-people-travel-on-public.webm: 384x640 6 with_masks, 8.4ms\n",
            "video 1/1 (frame 176/315) /content/stock-footage-multi-ethnic-passengers-in-tram-wearing-protective-face-masks-diverse-people-travel-on-public.webm: 384x640 6 with_masks, 1 mask_weared_incorrect, 8.5ms\n",
            "video 1/1 (frame 177/315) /content/stock-footage-multi-ethnic-passengers-in-tram-wearing-protective-face-masks-diverse-people-travel-on-public.webm: 384x640 6 with_masks, 9.8ms\n",
            "video 1/1 (frame 178/315) /content/stock-footage-multi-ethnic-passengers-in-tram-wearing-protective-face-masks-diverse-people-travel-on-public.webm: 384x640 6 with_masks, 8.6ms\n",
            "video 1/1 (frame 179/315) /content/stock-footage-multi-ethnic-passengers-in-tram-wearing-protective-face-masks-diverse-people-travel-on-public.webm: 384x640 6 with_masks, 8.7ms\n",
            "video 1/1 (frame 180/315) /content/stock-footage-multi-ethnic-passengers-in-tram-wearing-protective-face-masks-diverse-people-travel-on-public.webm: 384x640 7 with_masks, 8.8ms\n",
            "video 1/1 (frame 181/315) /content/stock-footage-multi-ethnic-passengers-in-tram-wearing-protective-face-masks-diverse-people-travel-on-public.webm: 384x640 6 with_masks, 9.8ms\n",
            "video 1/1 (frame 182/315) /content/stock-footage-multi-ethnic-passengers-in-tram-wearing-protective-face-masks-diverse-people-travel-on-public.webm: 384x640 6 with_masks, 1 mask_weared_incorrect, 8.4ms\n",
            "video 1/1 (frame 183/315) /content/stock-footage-multi-ethnic-passengers-in-tram-wearing-protective-face-masks-diverse-people-travel-on-public.webm: 384x640 6 with_masks, 10.8ms\n",
            "video 1/1 (frame 184/315) /content/stock-footage-multi-ethnic-passengers-in-tram-wearing-protective-face-masks-diverse-people-travel-on-public.webm: 384x640 6 with_masks, 8.7ms\n",
            "video 1/1 (frame 185/315) /content/stock-footage-multi-ethnic-passengers-in-tram-wearing-protective-face-masks-diverse-people-travel-on-public.webm: 384x640 6 with_masks, 8.6ms\n",
            "video 1/1 (frame 186/315) /content/stock-footage-multi-ethnic-passengers-in-tram-wearing-protective-face-masks-diverse-people-travel-on-public.webm: 384x640 6 with_masks, 12.1ms\n",
            "video 1/1 (frame 187/315) /content/stock-footage-multi-ethnic-passengers-in-tram-wearing-protective-face-masks-diverse-people-travel-on-public.webm: 384x640 6 with_masks, 1 mask_weared_incorrect, 17.5ms\n",
            "video 1/1 (frame 188/315) /content/stock-footage-multi-ethnic-passengers-in-tram-wearing-protective-face-masks-diverse-people-travel-on-public.webm: 384x640 6 with_masks, 1 mask_weared_incorrect, 8.8ms\n",
            "video 1/1 (frame 189/315) /content/stock-footage-multi-ethnic-passengers-in-tram-wearing-protective-face-masks-diverse-people-travel-on-public.webm: 384x640 5 with_masks, 9.1ms\n",
            "video 1/1 (frame 190/315) /content/stock-footage-multi-ethnic-passengers-in-tram-wearing-protective-face-masks-diverse-people-travel-on-public.webm: 384x640 5 with_masks, 8.4ms\n",
            "video 1/1 (frame 191/315) /content/stock-footage-multi-ethnic-passengers-in-tram-wearing-protective-face-masks-diverse-people-travel-on-public.webm: 384x640 5 with_masks, 9.6ms\n",
            "video 1/1 (frame 192/315) /content/stock-footage-multi-ethnic-passengers-in-tram-wearing-protective-face-masks-diverse-people-travel-on-public.webm: 384x640 7 with_masks, 8.6ms\n",
            "video 1/1 (frame 193/315) /content/stock-footage-multi-ethnic-passengers-in-tram-wearing-protective-face-masks-diverse-people-travel-on-public.webm: 384x640 7 with_masks, 9.7ms\n",
            "video 1/1 (frame 194/315) /content/stock-footage-multi-ethnic-passengers-in-tram-wearing-protective-face-masks-diverse-people-travel-on-public.webm: 384x640 7 with_masks, 8.5ms\n",
            "video 1/1 (frame 195/315) /content/stock-footage-multi-ethnic-passengers-in-tram-wearing-protective-face-masks-diverse-people-travel-on-public.webm: 384x640 6 with_masks, 9.7ms\n",
            "video 1/1 (frame 196/315) /content/stock-footage-multi-ethnic-passengers-in-tram-wearing-protective-face-masks-diverse-people-travel-on-public.webm: 384x640 6 with_masks, 12.1ms\n",
            "video 1/1 (frame 197/315) /content/stock-footage-multi-ethnic-passengers-in-tram-wearing-protective-face-masks-diverse-people-travel-on-public.webm: 384x640 6 with_masks, 8.5ms\n",
            "video 1/1 (frame 198/315) /content/stock-footage-multi-ethnic-passengers-in-tram-wearing-protective-face-masks-diverse-people-travel-on-public.webm: 384x640 6 with_masks, 8.9ms\n",
            "video 1/1 (frame 199/315) /content/stock-footage-multi-ethnic-passengers-in-tram-wearing-protective-face-masks-diverse-people-travel-on-public.webm: 384x640 6 with_masks, 8.8ms\n",
            "video 1/1 (frame 200/315) /content/stock-footage-multi-ethnic-passengers-in-tram-wearing-protective-face-masks-diverse-people-travel-on-public.webm: 384x640 6 with_masks, 8.6ms\n",
            "video 1/1 (frame 201/315) /content/stock-footage-multi-ethnic-passengers-in-tram-wearing-protective-face-masks-diverse-people-travel-on-public.webm: 384x640 6 with_masks, 10.0ms\n",
            "video 1/1 (frame 202/315) /content/stock-footage-multi-ethnic-passengers-in-tram-wearing-protective-face-masks-diverse-people-travel-on-public.webm: 384x640 6 with_masks, 8.7ms\n",
            "video 1/1 (frame 203/315) /content/stock-footage-multi-ethnic-passengers-in-tram-wearing-protective-face-masks-diverse-people-travel-on-public.webm: 384x640 7 with_masks, 8.8ms\n",
            "video 1/1 (frame 204/315) /content/stock-footage-multi-ethnic-passengers-in-tram-wearing-protective-face-masks-diverse-people-travel-on-public.webm: 384x640 6 with_masks, 8.6ms\n",
            "video 1/1 (frame 205/315) /content/stock-footage-multi-ethnic-passengers-in-tram-wearing-protective-face-masks-diverse-people-travel-on-public.webm: 384x640 6 with_masks, 8.7ms\n",
            "video 1/1 (frame 206/315) /content/stock-footage-multi-ethnic-passengers-in-tram-wearing-protective-face-masks-diverse-people-travel-on-public.webm: 384x640 6 with_masks, 11.2ms\n",
            "video 1/1 (frame 207/315) /content/stock-footage-multi-ethnic-passengers-in-tram-wearing-protective-face-masks-diverse-people-travel-on-public.webm: 384x640 6 with_masks, 8.9ms\n",
            "video 1/1 (frame 208/315) /content/stock-footage-multi-ethnic-passengers-in-tram-wearing-protective-face-masks-diverse-people-travel-on-public.webm: 384x640 6 with_masks, 9.1ms\n",
            "video 1/1 (frame 209/315) /content/stock-footage-multi-ethnic-passengers-in-tram-wearing-protective-face-masks-diverse-people-travel-on-public.webm: 384x640 6 with_masks, 12.8ms\n",
            "video 1/1 (frame 210/315) /content/stock-footage-multi-ethnic-passengers-in-tram-wearing-protective-face-masks-diverse-people-travel-on-public.webm: 384x640 6 with_masks, 8.7ms\n",
            "video 1/1 (frame 211/315) /content/stock-footage-multi-ethnic-passengers-in-tram-wearing-protective-face-masks-diverse-people-travel-on-public.webm: 384x640 6 with_masks, 9.3ms\n",
            "video 1/1 (frame 212/315) /content/stock-footage-multi-ethnic-passengers-in-tram-wearing-protective-face-masks-diverse-people-travel-on-public.webm: 384x640 6 with_masks, 9.2ms\n",
            "video 1/1 (frame 213/315) /content/stock-footage-multi-ethnic-passengers-in-tram-wearing-protective-face-masks-diverse-people-travel-on-public.webm: 384x640 6 with_masks, 8.8ms\n",
            "video 1/1 (frame 214/315) /content/stock-footage-multi-ethnic-passengers-in-tram-wearing-protective-face-masks-diverse-people-travel-on-public.webm: 384x640 6 with_masks, 8.6ms\n",
            "video 1/1 (frame 215/315) /content/stock-footage-multi-ethnic-passengers-in-tram-wearing-protective-face-masks-diverse-people-travel-on-public.webm: 384x640 6 with_masks, 9.7ms\n",
            "video 1/1 (frame 216/315) /content/stock-footage-multi-ethnic-passengers-in-tram-wearing-protective-face-masks-diverse-people-travel-on-public.webm: 384x640 6 with_masks, 9.9ms\n",
            "video 1/1 (frame 217/315) /content/stock-footage-multi-ethnic-passengers-in-tram-wearing-protective-face-masks-diverse-people-travel-on-public.webm: 384x640 5 with_masks, 11.2ms\n",
            "video 1/1 (frame 218/315) /content/stock-footage-multi-ethnic-passengers-in-tram-wearing-protective-face-masks-diverse-people-travel-on-public.webm: 384x640 6 with_masks, 9.4ms\n",
            "video 1/1 (frame 219/315) /content/stock-footage-multi-ethnic-passengers-in-tram-wearing-protective-face-masks-diverse-people-travel-on-public.webm: 384x640 5 with_masks, 8.9ms\n",
            "video 1/1 (frame 220/315) /content/stock-footage-multi-ethnic-passengers-in-tram-wearing-protective-face-masks-diverse-people-travel-on-public.webm: 384x640 5 with_masks, 8.8ms\n",
            "video 1/1 (frame 221/315) /content/stock-footage-multi-ethnic-passengers-in-tram-wearing-protective-face-masks-diverse-people-travel-on-public.webm: 384x640 5 with_masks, 9.1ms\n",
            "video 1/1 (frame 222/315) /content/stock-footage-multi-ethnic-passengers-in-tram-wearing-protective-face-masks-diverse-people-travel-on-public.webm: 384x640 5 with_masks, 10.0ms\n",
            "video 1/1 (frame 223/315) /content/stock-footage-multi-ethnic-passengers-in-tram-wearing-protective-face-masks-diverse-people-travel-on-public.webm: 384x640 5 with_masks, 8.8ms\n",
            "video 1/1 (frame 224/315) /content/stock-footage-multi-ethnic-passengers-in-tram-wearing-protective-face-masks-diverse-people-travel-on-public.webm: 384x640 5 with_masks, 8.6ms\n",
            "video 1/1 (frame 225/315) /content/stock-footage-multi-ethnic-passengers-in-tram-wearing-protective-face-masks-diverse-people-travel-on-public.webm: 384x640 5 with_masks, 8.5ms\n",
            "video 1/1 (frame 226/315) /content/stock-footage-multi-ethnic-passengers-in-tram-wearing-protective-face-masks-diverse-people-travel-on-public.webm: 384x640 5 with_masks, 8.6ms\n",
            "video 1/1 (frame 227/315) /content/stock-footage-multi-ethnic-passengers-in-tram-wearing-protective-face-masks-diverse-people-travel-on-public.webm: 384x640 5 with_masks, 13.4ms\n",
            "video 1/1 (frame 228/315) /content/stock-footage-multi-ethnic-passengers-in-tram-wearing-protective-face-masks-diverse-people-travel-on-public.webm: 384x640 6 with_masks, 8.4ms\n",
            "video 1/1 (frame 229/315) /content/stock-footage-multi-ethnic-passengers-in-tram-wearing-protective-face-masks-diverse-people-travel-on-public.webm: 384x640 5 with_masks, 8.9ms\n",
            "video 1/1 (frame 230/315) /content/stock-footage-multi-ethnic-passengers-in-tram-wearing-protective-face-masks-diverse-people-travel-on-public.webm: 384x640 5 with_masks, 8.5ms\n",
            "video 1/1 (frame 231/315) /content/stock-footage-multi-ethnic-passengers-in-tram-wearing-protective-face-masks-diverse-people-travel-on-public.webm: 384x640 5 with_masks, 8.5ms\n",
            "video 1/1 (frame 232/315) /content/stock-footage-multi-ethnic-passengers-in-tram-wearing-protective-face-masks-diverse-people-travel-on-public.webm: 384x640 6 with_masks, 9.5ms\n",
            "video 1/1 (frame 233/315) /content/stock-footage-multi-ethnic-passengers-in-tram-wearing-protective-face-masks-diverse-people-travel-on-public.webm: 384x640 6 with_masks, 9.6ms\n",
            "video 1/1 (frame 234/315) /content/stock-footage-multi-ethnic-passengers-in-tram-wearing-protective-face-masks-diverse-people-travel-on-public.webm: 384x640 6 with_masks, 9.7ms\n",
            "video 1/1 (frame 235/315) /content/stock-footage-multi-ethnic-passengers-in-tram-wearing-protective-face-masks-diverse-people-travel-on-public.webm: 384x640 6 with_masks, 11.1ms\n",
            "video 1/1 (frame 236/315) /content/stock-footage-multi-ethnic-passengers-in-tram-wearing-protective-face-masks-diverse-people-travel-on-public.webm: 384x640 6 with_masks, 9.2ms\n",
            "video 1/1 (frame 237/315) /content/stock-footage-multi-ethnic-passengers-in-tram-wearing-protective-face-masks-diverse-people-travel-on-public.webm: 384x640 7 with_masks, 8.7ms\n",
            "video 1/1 (frame 238/315) /content/stock-footage-multi-ethnic-passengers-in-tram-wearing-protective-face-masks-diverse-people-travel-on-public.webm: 384x640 7 with_masks, 9.5ms\n",
            "video 1/1 (frame 239/315) /content/stock-footage-multi-ethnic-passengers-in-tram-wearing-protective-face-masks-diverse-people-travel-on-public.webm: 384x640 6 with_masks, 15.4ms\n",
            "video 1/1 (frame 240/315) /content/stock-footage-multi-ethnic-passengers-in-tram-wearing-protective-face-masks-diverse-people-travel-on-public.webm: 384x640 6 with_masks, 9.4ms\n",
            "video 1/1 (frame 241/315) /content/stock-footage-multi-ethnic-passengers-in-tram-wearing-protective-face-masks-diverse-people-travel-on-public.webm: 384x640 7 with_masks, 9.1ms\n",
            "video 1/1 (frame 242/315) /content/stock-footage-multi-ethnic-passengers-in-tram-wearing-protective-face-masks-diverse-people-travel-on-public.webm: 384x640 6 with_masks, 8.8ms\n",
            "video 1/1 (frame 243/315) /content/stock-footage-multi-ethnic-passengers-in-tram-wearing-protective-face-masks-diverse-people-travel-on-public.webm: 384x640 5 with_masks, 8.8ms\n",
            "video 1/1 (frame 244/315) /content/stock-footage-multi-ethnic-passengers-in-tram-wearing-protective-face-masks-diverse-people-travel-on-public.webm: 384x640 5 with_masks, 9.9ms\n",
            "video 1/1 (frame 245/315) /content/stock-footage-multi-ethnic-passengers-in-tram-wearing-protective-face-masks-diverse-people-travel-on-public.webm: 384x640 6 with_masks, 8.8ms\n",
            "video 1/1 (frame 246/315) /content/stock-footage-multi-ethnic-passengers-in-tram-wearing-protective-face-masks-diverse-people-travel-on-public.webm: 384x640 6 with_masks, 8.7ms\n",
            "video 1/1 (frame 247/315) /content/stock-footage-multi-ethnic-passengers-in-tram-wearing-protective-face-masks-diverse-people-travel-on-public.webm: 384x640 7 with_masks, 9.7ms\n",
            "video 1/1 (frame 248/315) /content/stock-footage-multi-ethnic-passengers-in-tram-wearing-protective-face-masks-diverse-people-travel-on-public.webm: 384x640 7 with_masks, 8.7ms\n",
            "video 1/1 (frame 249/315) /content/stock-footage-multi-ethnic-passengers-in-tram-wearing-protective-face-masks-diverse-people-travel-on-public.webm: 384x640 7 with_masks, 8.8ms\n",
            "video 1/1 (frame 250/315) /content/stock-footage-multi-ethnic-passengers-in-tram-wearing-protective-face-masks-diverse-people-travel-on-public.webm: 384x640 7 with_masks, 13.5ms\n",
            "video 1/1 (frame 251/315) /content/stock-footage-multi-ethnic-passengers-in-tram-wearing-protective-face-masks-diverse-people-travel-on-public.webm: 384x640 7 with_masks, 8.7ms\n",
            "video 1/1 (frame 252/315) /content/stock-footage-multi-ethnic-passengers-in-tram-wearing-protective-face-masks-diverse-people-travel-on-public.webm: 384x640 7 with_masks, 8.6ms\n",
            "video 1/1 (frame 253/315) /content/stock-footage-multi-ethnic-passengers-in-tram-wearing-protective-face-masks-diverse-people-travel-on-public.webm: 384x640 7 with_masks, 8.7ms\n",
            "video 1/1 (frame 254/315) /content/stock-footage-multi-ethnic-passengers-in-tram-wearing-protective-face-masks-diverse-people-travel-on-public.webm: 384x640 7 with_masks, 8.5ms\n",
            "video 1/1 (frame 255/315) /content/stock-footage-multi-ethnic-passengers-in-tram-wearing-protective-face-masks-diverse-people-travel-on-public.webm: 384x640 6 with_masks, 10.2ms\n",
            "video 1/1 (frame 256/315) /content/stock-footage-multi-ethnic-passengers-in-tram-wearing-protective-face-masks-diverse-people-travel-on-public.webm: 384x640 6 with_masks, 9.9ms\n",
            "video 1/1 (frame 257/315) /content/stock-footage-multi-ethnic-passengers-in-tram-wearing-protective-face-masks-diverse-people-travel-on-public.webm: 384x640 6 with_masks, 8.7ms\n",
            "video 1/1 (frame 258/315) /content/stock-footage-multi-ethnic-passengers-in-tram-wearing-protective-face-masks-diverse-people-travel-on-public.webm: 384x640 6 with_masks, 8.4ms\n",
            "video 1/1 (frame 259/315) /content/stock-footage-multi-ethnic-passengers-in-tram-wearing-protective-face-masks-diverse-people-travel-on-public.webm: 384x640 5 with_masks, 8.6ms\n",
            "video 1/1 (frame 260/315) /content/stock-footage-multi-ethnic-passengers-in-tram-wearing-protective-face-masks-diverse-people-travel-on-public.webm: 384x640 5 with_masks, 10.5ms\n",
            "video 1/1 (frame 261/315) /content/stock-footage-multi-ethnic-passengers-in-tram-wearing-protective-face-masks-diverse-people-travel-on-public.webm: 384x640 5 with_masks, 8.6ms\n",
            "video 1/1 (frame 262/315) /content/stock-footage-multi-ethnic-passengers-in-tram-wearing-protective-face-masks-diverse-people-travel-on-public.webm: 384x640 6 with_masks, 8.7ms\n",
            "video 1/1 (frame 263/315) /content/stock-footage-multi-ethnic-passengers-in-tram-wearing-protective-face-masks-diverse-people-travel-on-public.webm: 384x640 5 with_masks, 8.6ms\n",
            "video 1/1 (frame 264/315) /content/stock-footage-multi-ethnic-passengers-in-tram-wearing-protective-face-masks-diverse-people-travel-on-public.webm: 384x640 6 with_masks, 9.0ms\n",
            "video 1/1 (frame 265/315) /content/stock-footage-multi-ethnic-passengers-in-tram-wearing-protective-face-masks-diverse-people-travel-on-public.webm: 384x640 6 with_masks, 12.5ms\n",
            "video 1/1 (frame 266/315) /content/stock-footage-multi-ethnic-passengers-in-tram-wearing-protective-face-masks-diverse-people-travel-on-public.webm: 384x640 7 with_masks, 9.0ms\n",
            "video 1/1 (frame 267/315) /content/stock-footage-multi-ethnic-passengers-in-tram-wearing-protective-face-masks-diverse-people-travel-on-public.webm: 384x640 6 with_masks, 10.9ms\n",
            "video 1/1 (frame 268/315) /content/stock-footage-multi-ethnic-passengers-in-tram-wearing-protective-face-masks-diverse-people-travel-on-public.webm: 384x640 6 with_masks, 8.5ms\n",
            "video 1/1 (frame 269/315) /content/stock-footage-multi-ethnic-passengers-in-tram-wearing-protective-face-masks-diverse-people-travel-on-public.webm: 384x640 6 with_masks, 9.0ms\n",
            "video 1/1 (frame 270/315) /content/stock-footage-multi-ethnic-passengers-in-tram-wearing-protective-face-masks-diverse-people-travel-on-public.webm: 384x640 6 with_masks, 9.6ms\n",
            "video 1/1 (frame 271/315) /content/stock-footage-multi-ethnic-passengers-in-tram-wearing-protective-face-masks-diverse-people-travel-on-public.webm: 384x640 6 with_masks, 9.8ms\n",
            "video 1/1 (frame 272/315) /content/stock-footage-multi-ethnic-passengers-in-tram-wearing-protective-face-masks-diverse-people-travel-on-public.webm: 384x640 6 with_masks, 10.5ms\n",
            "video 1/1 (frame 273/315) /content/stock-footage-multi-ethnic-passengers-in-tram-wearing-protective-face-masks-diverse-people-travel-on-public.webm: 384x640 6 with_masks, 9.8ms\n",
            "video 1/1 (frame 274/315) /content/stock-footage-multi-ethnic-passengers-in-tram-wearing-protective-face-masks-diverse-people-travel-on-public.webm: 384x640 6 with_masks, 8.8ms\n",
            "video 1/1 (frame 275/315) /content/stock-footage-multi-ethnic-passengers-in-tram-wearing-protective-face-masks-diverse-people-travel-on-public.webm: 384x640 6 with_masks, 8.6ms\n",
            "video 1/1 (frame 276/315) /content/stock-footage-multi-ethnic-passengers-in-tram-wearing-protective-face-masks-diverse-people-travel-on-public.webm: 384x640 6 with_masks, 8.6ms\n",
            "video 1/1 (frame 277/315) /content/stock-footage-multi-ethnic-passengers-in-tram-wearing-protective-face-masks-diverse-people-travel-on-public.webm: 384x640 6 with_masks, 10.1ms\n",
            "video 1/1 (frame 278/315) /content/stock-footage-multi-ethnic-passengers-in-tram-wearing-protective-face-masks-diverse-people-travel-on-public.webm: 384x640 6 with_masks, 10.1ms\n",
            "video 1/1 (frame 279/315) /content/stock-footage-multi-ethnic-passengers-in-tram-wearing-protective-face-masks-diverse-people-travel-on-public.webm: 384x640 6 with_masks, 8.6ms\n",
            "video 1/1 (frame 280/315) /content/stock-footage-multi-ethnic-passengers-in-tram-wearing-protective-face-masks-diverse-people-travel-on-public.webm: 384x640 6 with_masks, 8.4ms\n",
            "video 1/1 (frame 281/315) /content/stock-footage-multi-ethnic-passengers-in-tram-wearing-protective-face-masks-diverse-people-travel-on-public.webm: 384x640 6 with_masks, 9.6ms\n",
            "video 1/1 (frame 282/315) /content/stock-footage-multi-ethnic-passengers-in-tram-wearing-protective-face-masks-diverse-people-travel-on-public.webm: 384x640 6 with_masks, 8.7ms\n",
            "video 1/1 (frame 283/315) /content/stock-footage-multi-ethnic-passengers-in-tram-wearing-protective-face-masks-diverse-people-travel-on-public.webm: 384x640 6 with_masks, 9.0ms\n",
            "video 1/1 (frame 284/315) /content/stock-footage-multi-ethnic-passengers-in-tram-wearing-protective-face-masks-diverse-people-travel-on-public.webm: 384x640 6 with_masks, 8.6ms\n",
            "video 1/1 (frame 285/315) /content/stock-footage-multi-ethnic-passengers-in-tram-wearing-protective-face-masks-diverse-people-travel-on-public.webm: 384x640 6 with_masks, 10.8ms\n",
            "video 1/1 (frame 286/315) /content/stock-footage-multi-ethnic-passengers-in-tram-wearing-protective-face-masks-diverse-people-travel-on-public.webm: 384x640 6 with_masks, 8.7ms\n",
            "video 1/1 (frame 287/315) /content/stock-footage-multi-ethnic-passengers-in-tram-wearing-protective-face-masks-diverse-people-travel-on-public.webm: 384x640 6 with_masks, 12.6ms\n",
            "video 1/1 (frame 288/315) /content/stock-footage-multi-ethnic-passengers-in-tram-wearing-protective-face-masks-diverse-people-travel-on-public.webm: 384x640 6 with_masks, 9.2ms\n",
            "video 1/1 (frame 289/315) /content/stock-footage-multi-ethnic-passengers-in-tram-wearing-protective-face-masks-diverse-people-travel-on-public.webm: 384x640 6 with_masks, 9.3ms\n",
            "video 1/1 (frame 290/315) /content/stock-footage-multi-ethnic-passengers-in-tram-wearing-protective-face-masks-diverse-people-travel-on-public.webm: 384x640 5 with_masks, 8.9ms\n",
            "video 1/1 (frame 291/315) /content/stock-footage-multi-ethnic-passengers-in-tram-wearing-protective-face-masks-diverse-people-travel-on-public.webm: 384x640 5 with_masks, 15.5ms\n",
            "video 1/1 (frame 292/315) /content/stock-footage-multi-ethnic-passengers-in-tram-wearing-protective-face-masks-diverse-people-travel-on-public.webm: 384x640 5 with_masks, 10.4ms\n",
            "video 1/1 (frame 293/315) /content/stock-footage-multi-ethnic-passengers-in-tram-wearing-protective-face-masks-diverse-people-travel-on-public.webm: 384x640 5 with_masks, 9.8ms\n",
            "video 1/1 (frame 294/315) /content/stock-footage-multi-ethnic-passengers-in-tram-wearing-protective-face-masks-diverse-people-travel-on-public.webm: 384x640 5 with_masks, 8.8ms\n",
            "video 1/1 (frame 295/315) /content/stock-footage-multi-ethnic-passengers-in-tram-wearing-protective-face-masks-diverse-people-travel-on-public.webm: 384x640 5 with_masks, 8.6ms\n",
            "video 1/1 (frame 296/315) /content/stock-footage-multi-ethnic-passengers-in-tram-wearing-protective-face-masks-diverse-people-travel-on-public.webm: 384x640 5 with_masks, 8.6ms\n",
            "video 1/1 (frame 297/315) /content/stock-footage-multi-ethnic-passengers-in-tram-wearing-protective-face-masks-diverse-people-travel-on-public.webm: 384x640 5 with_masks, 9.6ms\n",
            "video 1/1 (frame 298/315) /content/stock-footage-multi-ethnic-passengers-in-tram-wearing-protective-face-masks-diverse-people-travel-on-public.webm: 384x640 5 with_masks, 8.8ms\n",
            "video 1/1 (frame 299/315) /content/stock-footage-multi-ethnic-passengers-in-tram-wearing-protective-face-masks-diverse-people-travel-on-public.webm: 384x640 5 with_masks, 9.4ms\n",
            "video 1/1 (frame 300/315) /content/stock-footage-multi-ethnic-passengers-in-tram-wearing-protective-face-masks-diverse-people-travel-on-public.webm: 384x640 5 with_masks, 9.9ms\n",
            "video 1/1 (frame 301/315) /content/stock-footage-multi-ethnic-passengers-in-tram-wearing-protective-face-masks-diverse-people-travel-on-public.webm: 384x640 5 with_masks, 9.6ms\n",
            "video 1/1 (frame 302/315) /content/stock-footage-multi-ethnic-passengers-in-tram-wearing-protective-face-masks-diverse-people-travel-on-public.webm: 384x640 5 with_masks, 8.5ms\n",
            "video 1/1 (frame 303/315) /content/stock-footage-multi-ethnic-passengers-in-tram-wearing-protective-face-masks-diverse-people-travel-on-public.webm: 384x640 6 with_masks, 8.6ms\n",
            "video 1/1 (frame 304/315) /content/stock-footage-multi-ethnic-passengers-in-tram-wearing-protective-face-masks-diverse-people-travel-on-public.webm: 384x640 5 with_masks, 8.7ms\n",
            "video 1/1 (frame 305/315) /content/stock-footage-multi-ethnic-passengers-in-tram-wearing-protective-face-masks-diverse-people-travel-on-public.webm: 384x640 6 with_masks, 10.8ms\n",
            "video 1/1 (frame 306/315) /content/stock-footage-multi-ethnic-passengers-in-tram-wearing-protective-face-masks-diverse-people-travel-on-public.webm: 384x640 6 with_masks, 9.1ms\n",
            "video 1/1 (frame 307/315) /content/stock-footage-multi-ethnic-passengers-in-tram-wearing-protective-face-masks-diverse-people-travel-on-public.webm: 384x640 7 with_masks, 8.8ms\n",
            "video 1/1 (frame 308/315) /content/stock-footage-multi-ethnic-passengers-in-tram-wearing-protective-face-masks-diverse-people-travel-on-public.webm: 384x640 7 with_masks, 8.6ms\n",
            "video 1/1 (frame 309/315) /content/stock-footage-multi-ethnic-passengers-in-tram-wearing-protective-face-masks-diverse-people-travel-on-public.webm: 384x640 7 with_masks, 8.5ms\n",
            "video 1/1 (frame 310/315) /content/stock-footage-multi-ethnic-passengers-in-tram-wearing-protective-face-masks-diverse-people-travel-on-public.webm: 384x640 7 with_masks, 9.8ms\n",
            "video 1/1 (frame 311/315) /content/stock-footage-multi-ethnic-passengers-in-tram-wearing-protective-face-masks-diverse-people-travel-on-public.webm: 384x640 7 with_masks, 8.7ms\n",
            "video 1/1 (frame 312/315) /content/stock-footage-multi-ethnic-passengers-in-tram-wearing-protective-face-masks-diverse-people-travel-on-public.webm: 384x640 7 with_masks, 11.1ms\n",
            "video 1/1 (frame 313/315) /content/stock-footage-multi-ethnic-passengers-in-tram-wearing-protective-face-masks-diverse-people-travel-on-public.webm: 384x640 6 with_masks, 9.7ms\n",
            "video 1/1 (frame 314/315) /content/stock-footage-multi-ethnic-passengers-in-tram-wearing-protective-face-masks-diverse-people-travel-on-public.webm: 384x640 6 with_masks, 8.6ms\n",
            "video 1/1 (frame 315/315) /content/stock-footage-multi-ethnic-passengers-in-tram-wearing-protective-face-masks-diverse-people-travel-on-public.webm: 384x640 6 with_masks, 8.6ms\n",
            "Speed: 2.7ms preprocess, 11.0ms inference, 1.5ms postprocess per image at shape (1, 3, 384, 640)\n",
            "Results saved to \u001b[1m/content/drive/MyDrive/kaggle/working/runs/detect/video_output\u001b[0m\n",
            "✅ Output video saved in:\n",
            "/content/drive/MyDrive/kaggle/working/runs/detect/video_output/\n"
          ]
        }
      ]
    },
    {
      "cell_type": "code",
      "source": [],
      "metadata": {
        "id": "Empr6DwldLSI"
      },
      "execution_count": null,
      "outputs": []
    },
    {
      "cell_type": "code",
      "source": [],
      "metadata": {
        "id": "lOB5S96bdLTz"
      },
      "execution_count": null,
      "outputs": []
    }
  ]
}